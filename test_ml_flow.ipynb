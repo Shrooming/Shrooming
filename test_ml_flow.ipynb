{
 "cells": [
  {
   "cell_type": "code",
   "id": "initial_id",
   "metadata": {
    "collapsed": true,
    "ExecuteTime": {
     "end_time": "2025-09-25T16:05:33.830734Z",
     "start_time": "2025-09-25T16:05:30.992385Z"
    }
   },
   "source": [
    "import os\n",
    "import numpy as np\n",
    "from keras.preprocessing.image import load_img, img_to_array\n",
    "from sklearn.model_selection import train_test_split\n",
    "from sklearn.ensemble import RandomForestClassifier\n",
    "from sklearn.metrics import accuracy_score, classification_report\n",
    "from skimage.feature import hog\n",
    "from sympy import sympify\n",
    "import cv2\n",
    "import matplotlib.pyplot as plt\n",
    "import joblib\n",
    "from sklearn.model_selection import RandomizedSearchCV\n",
    "from scipy.stats import randint\n",
    "import joblib\n",
    "from sklearn.svm import SVC\n",
    "from sklearn.neighbors import KNeighborsClassifier\n",
    "from sklearn.metrics import log_loss, brier_score_loss\n",
    "from sklearn.preprocessing import label_binarize\n"
   ],
   "outputs": [],
   "execution_count": 3
  },
  {
   "metadata": {
    "ExecuteTime": {
     "end_time": "2025-09-25T16:06:11.163584Z",
     "start_time": "2025-09-25T16:05:33.836263Z"
    }
   },
   "cell_type": "code",
   "source": [
    "data_dir = \"data\"\n",
    "img_size = 45\n",
    "\n",
    "# Collect labels\n",
    "symbol_labels = sorted([d for d in os.listdir(data_dir) if os.path.isdir(os.path.join(data_dir, d))])\n",
    "\n",
    "# Label mappings\n",
    "symbol_to_index = {label: idx for idx, label in enumerate(symbol_labels)}\n",
    "index_to_label = {v: k for k, v in symbol_to_index.items()}\n",
    "\n",
    "X_symbols, y_symbols = [], []\n",
    "\n",
    "# Load dataset images\n",
    "for label in symbol_labels:\n",
    "    folder_path = os.path.join(data_dir, label)\n",
    "    for file in os.listdir(folder_path):\n",
    "        if file.endswith(\".jpg\"):\n",
    "            try:\n",
    "                img_path = os.path.join(folder_path, file)\n",
    "                img = load_img(img_path, color_mode=\"grayscale\", target_size=(img_size, img_size))\n",
    "                img = img_to_array(img) / 255.0\n",
    "                X_symbols.append(img)\n",
    "                y_symbols.append(symbol_to_index[label])\n",
    "            except Exception as e:\n",
    "                print(f\"Error loading {img_path}: {e}\")\n",
    "\n",
    "# Convert to numpy arrays\n",
    "X_all = np.array(X_symbols)\n",
    "y_all = np.array(y_symbols)\n",
    "\n",
    "print(\"Dataset loaded:\", X_all.shape, y_all.shape)\n",
    "print(\"Classes:\", index_to_label)"
   ],
   "id": "d4039b53280b9577",
   "outputs": [
    {
     "name": "stdout",
     "output_type": "stream",
     "text": [
      "Dataset loaded: (186134, 45, 45, 1) (186134,)\n",
      "Classes: {0: '(', 1: ')', 2: '+', 3: '-', 4: '0', 5: '1', 6: '2', 7: '3', 8: '4', 9: '5', 10: '6', 11: '7', 12: '8', 13: '9', 14: 'div', 15: 'times'}\n"
     ]
    }
   ],
   "execution_count": 4
  },
  {
   "metadata": {
    "ExecuteTime": {
     "end_time": "2025-09-25T16:06:11.532968Z",
     "start_time": "2025-09-25T16:06:11.170638Z"
    }
   },
   "cell_type": "code",
   "source": [
    "# Train + temp set split\n",
    "X_train, X_temp, y_train, y_temp = train_test_split(\n",
    "    X_all, y_all, test_size=0.3, random_state=42, stratify=y_all\n",
    ")\n",
    "\n",
    "# Validation + Test split (from temp)\n",
    "X_val, X_test, y_val, y_test = train_test_split(\n",
    "    X_temp, y_temp, test_size=0.5, random_state=42, stratify=y_temp\n",
    ")\n",
    "\n",
    "print(\"Train:\", X_train.shape, y_train.shape)\n",
    "print(\"Val:\", X_val.shape, y_val.shape)\n",
    "print(\"Test:\", X_test.shape, y_test.shape)"
   ],
   "id": "78ef8a0b58ea960c",
   "outputs": [
    {
     "name": "stdout",
     "output_type": "stream",
     "text": [
      "Train: (130293, 45, 45, 1) (130293,)\n",
      "Val: (27920, 45, 45, 1) (27920,)\n",
      "Test: (27921, 45, 45, 1) (27921,)\n"
     ]
    }
   ],
   "execution_count": 5
  },
  {
   "metadata": {
    "ExecuteTime": {
     "end_time": "2025-09-25T16:10:20.879847Z",
     "start_time": "2025-09-25T16:06:11.538091Z"
    }
   },
   "cell_type": "code",
   "source": [
    "def extract_hog_features(images):\n",
    "    features = []\n",
    "    for img in images:\n",
    "        img = img.squeeze()\n",
    "        hog_feat = hog(\n",
    "            img,\n",
    "            orientations=9,\n",
    "            pixels_per_cell=(4, 4),\n",
    "            cells_per_block=(2, 2),\n",
    "            block_norm=\"L2-Hys\"\n",
    "        )\n",
    "        features.append(hog_feat)\n",
    "    return np.array(features)\n",
    "\n",
    "X_train_hog = extract_hog_features(X_train)\n",
    "X_val_hog   = extract_hog_features(X_val)\n",
    "X_test_hog  = extract_hog_features(X_test)"
   ],
   "id": "7e94057a08bb1b4",
   "outputs": [],
   "execution_count": 6
  },
  {
   "metadata": {
    "ExecuteTime": {
     "end_time": "2025-09-25T16:32:03.687542Z",
     "start_time": "2025-09-25T16:10:20.894568Z"
    }
   },
   "cell_type": "code",
   "source": [
    "from sklearn.ensemble import RandomForestClassifier, ExtraTreesClassifier\n",
    "from sklearn.svm import SVC\n",
    "from sklearn.neighbors import KNeighborsClassifier\n",
    "\n",
    "# Random Forest med default params + n_jobs=-1\n",
    "rf_hog = RandomForestClassifier(n_jobs=-1, random_state=42)\n",
    "\n",
    "# Extra Trees med default params + n_jobs=-1\n",
    "et_hog = ExtraTreesClassifier(n_jobs=-1, random_state=42)\n",
    "\n",
    "# SVM med linear kernel (default params förutom kernel och random_state)\n",
    "svm_hog = SVC(kernel=\"linear\", random_state=42)\n",
    "\n",
    "# KNN med default params + n_jobs=-1\n",
    "knn_hog = KNeighborsClassifier(n_jobs=-1)\n",
    "\n",
    "# Träna modellerna\n",
    "rf_hog.fit(X_train_hog, y_train)\n",
    "et_hog.fit(X_train_hog, y_train)\n",
    "svm_hog.fit(X_train_hog, y_train)\n",
    "knn_hog.fit(X_train_hog, y_train)\n",
    "\n",
    "# Utvärdera på valideringsdata\n",
    "print(\"RF val acc:\", rf_hog.score(X_val_hog, y_val))\n",
    "print(\"ET val acc:\", et_hog.score(X_val_hog, y_val))\n",
    "print(\"SVM val acc:\", svm_hog.score(X_val_hog, y_val))\n",
    "print(\"KNN val acc:\", knn_hog.score(X_val_hog, y_val))\n"
   ],
   "id": "c330ac74fee46822",
   "outputs": [
    {
     "name": "stdout",
     "output_type": "stream",
     "text": [
      "RF val acc: 0.997528653295129\n",
      "ET val acc: 0.9974928366762178\n",
      "SVM val acc: 0.994878223495702\n",
      "KNN val acc: 0.9685530085959886\n"
     ]
    }
   ],
   "execution_count": 7
  },
  {
   "metadata": {
    "ExecuteTime": {
     "end_time": "2025-09-20T12:08:26.053869Z",
     "start_time": "2025-09-20T12:08:26.035249Z"
    }
   },
   "cell_type": "code",
   "source": "",
   "id": "4846fad73d0daa26",
   "outputs": [
    {
     "ename": "NameError",
     "evalue": "name 'x_img_hog' is not defined",
     "output_type": "error",
     "traceback": [
      "\u001B[31m---------------------------------------------------------------------------\u001B[39m",
      "\u001B[31mNameError\u001B[39m                                 Traceback (most recent call last)",
      "\u001B[36mCell\u001B[39m\u001B[36m \u001B[39m\u001B[32mIn[17]\u001B[39m\u001B[32m, line 1\u001B[39m\n\u001B[32m----> \u001B[39m\u001B[32m1\u001B[39m probas = rf_hog.predict_proba([\u001B[43mx_img_hog\u001B[49m])[\u001B[32m0\u001B[39m]\n\u001B[32m      2\u001B[39m classes = rf_hog.classes_\n\u001B[32m      4\u001B[39m \u001B[38;5;66;03m# sortera klasser efter sannolikhet\u001B[39;00m\n",
      "\u001B[31mNameError\u001B[39m: name 'x_img_hog' is not defined"
     ]
    }
   ],
   "execution_count": 17
  }
 ],
 "metadata": {
  "kernelspec": {
   "display_name": "Python 3",
   "language": "python",
   "name": "python3"
  },
  "language_info": {
   "codemirror_mode": {
    "name": "ipython",
    "version": 2
   },
   "file_extension": ".py",
   "mimetype": "text/x-python",
   "name": "python",
   "nbconvert_exporter": "python",
   "pygments_lexer": "ipython2",
   "version": "2.7.6"
  }
 },
 "nbformat": 4,
 "nbformat_minor": 5
}
