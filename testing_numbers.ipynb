{
 "cells": [
  {
   "cell_type": "code",
   "execution_count": 1,
   "id": "aec3ad6d-e8ec-46b8-8f6e-285dec351cde",
   "metadata": {},
   "outputs": [],
   "source": [
    "import tensorflow as tf\n",
    "import pandas as pd\n",
    "import os\n",
    "from tensorflow.keras.utils import load_img, img_to_array\n",
    "from sklearn.model_selection import train_test_split\n",
    "import numpy as np\n",
    "from sklearn.linear_model import LogisticRegression\n",
    "from sklearn.model_selection import GridSearchCV\n",
    "from sklearn.ensemble import RandomForestClassifier, ExtraTreesClassifier\n",
    "from sklearn.preprocessing import StandardScaler\n",
    "from sklearn.metrics import classification_report\n",
    "from sklearn.pipeline import Pipeline\n",
    "from sklearn.metrics import root_mean_squared_error\n",
    "from sklearn.metrics import accuracy_score, precision_score, recall_score, f1_score, classification_report"
   ]
  },
  {
   "cell_type": "code",
   "execution_count": 2,
   "id": "af8fa8d0-66bf-49ec-8425-5df50c0e08cc",
   "metadata": {},
   "outputs": [
    {
     "name": "stdout",
     "output_type": "stream",
     "text": [
      "X shape: (94257, 45, 45, 1)\n",
      "y shape: (94257,)\n"
     ]
    }
   ],
   "source": [
    "data_dir = \"data/numbers\"\n",
    "image_size = (45, 45)\n",
    "color_mode = \"grayscale\"\n",
    "\n",
    "X = []\n",
    "y = []\n",
    "class_names = sorted(os.listdir(data_dir))  # get class folders\n",
    "class_to_label = {name: idx for idx, name in enumerate(class_names)}\n",
    "\n",
    "for class_name in class_names:\n",
    "    class_dir = os.path.join(data_dir, class_name)\n",
    "    for fname in os.listdir(class_dir):\n",
    "        if fname.lower().endswith(\".jpg\"):\n",
    "            img_path = os.path.join(class_dir, fname)\n",
    "            img = load_img(img_path, target_size=image_size, color_mode=color_mode)\n",
    "            img_array = img_to_array(img) / 255.0\n",
    "            X.append(img_array)\n",
    "            y.append(class_to_label[class_name])\n",
    "\n",
    "X = np.array(X)\n",
    "y = np.array(y)\n",
    "\n",
    "#Save\n",
    "np.savez_compressed(\"new_data_nums.npz\", X=X, y=y)\n",
    "\n",
    "#load\n",
    "#data = np.load(\"new_data_nums.npz\")\n",
    "#X_loaded, y_loaded = data[\"X\"], data[\"y\"]\n",
    "\n",
    "print(\"X shape:\", X.shape)  # 4D array med num_images, height, width, channels)\n",
    "print(\"y shape:\", y.shape)  #1D array där nummer klass tilldelas till varje bild, tex X[1]=5 = bilden med index 1 är en 5a.\n"
   ]
  },
  {
   "cell_type": "code",
   "execution_count": 3,
   "id": "b24bac19-f9f3-4c7f-86ad-6bf5d273324e",
   "metadata": {},
   "outputs": [
    {
     "name": "stdout",
     "output_type": "stream",
     "text": [
      "Train shape: (64094, 45, 45, 1) (64094,)\n",
      "Val shape: (11311, 45, 45, 1) (11311,)\n",
      "Test shape: (18852, 45, 45, 1) (18852,)\n",
      "Flattened Train shape: (64094, 2025) (64094,)\n",
      "Flattened Val shape: (11311, 2025) (11311,)\n",
      "Flattened Test shape: (18852, 2025) (18852,)\n"
     ]
    }
   ],
   "source": [
    "X_train, X_test, y_train, y_test = train_test_split(X, y, test_size=0.2, random_state=42)\n",
    "X_train, X_val, y_train, y_val = train_test_split(X_train, y_train, test_size=0.15, random_state=42)\n",
    "\n",
    "print(\"Train shape:\", X_train.shape, y_train.shape)\n",
    "print(\"Val shape:\", X_val.shape, y_val.shape)\n",
    "print(\"Test shape:\", X_test.shape, y_test.shape)\n",
    "\n",
    "X_train = X_train.reshape(len(X_train), -1)\n",
    "X_val = X_val.reshape(len(X_val), -1)\n",
    "X_test = X_test.reshape(len(X_test), -1)\n",
    "\n",
    "#Flattena datan för att få rätt antal dimmensioner till modellerna\n",
    "print(\"Flattened Train shape:\", X_train.shape, y_train.shape)\n",
    "print(\"Flattened Val shape:\", X_val.shape, y_val.shape)\n",
    "print(\"Flattened Test shape:\", X_test.shape, y_test.shape)\n"
   ]
  },
  {
   "cell_type": "code",
   "execution_count": 4,
   "id": "0d459365-c40f-4eb1-b9e0-f864da3426dd",
   "metadata": {},
   "outputs": [],
   "source": [
    "#Scaling\n",
    "scaler = StandardScaler()\n",
    "\n",
    "X_train = scaler.fit_transform(X_train)\n",
    "X_val = scaler.fit_transform(X_val)\n",
    "X_test = scaler.fit_transform(X_val)"
   ]
  },
  {
   "cell_type": "code",
   "execution_count": 5,
   "id": "ad50a489-81d6-4ed0-8acd-26ca66330b16",
   "metadata": {},
   "outputs": [],
   "source": [
    "#params\n",
    "\n",
    "#param_log = {\n",
    "#    'C': [0.1, 1, 10],\n",
    "#    'solver': ['lbfgs', 'saga'],\n",
    "#    'max_iter': [500, 1000]\n",
    "#}\n",
    "\n",
    "param_rf = {\n",
    "    \"n_estimators\": [100, 200],\n",
    "    \"max_depth\": [None, 10, 20],\n",
    "    \"min_samples_split\": [2, 5]\n",
    "}\n",
    "    \n",
    "param_et = {\n",
    "    \"n_estimators\": [100, 200],\n",
    "    \"max_depth\": [None, 10, 20],\n",
    "    \"min_samples_split\": [2, 5]\n",
    "}\n",
    "\n",
    "#träna modell\n",
    "#grid_log = GridSearchCV(LogisticRegression(), param_log, cv=3, scoring='accuracy', n_jobs=-1)\n",
    "grid_rf  = GridSearchCV(RandomForestClassifier(), param_rf, cv=3, scoring='accuracy', n_jobs=-1)\n",
    "grid_extra = GridSearchCV(ExtraTreesClassifier(), param_et, cv=3, scoring='accuracy', n_jobs=-1)"
   ]
  },
  {
   "cell_type": "code",
   "execution_count": 6,
   "id": "116881e2-1be6-4d95-a0e2-e5bfbc86807a",
   "metadata": {},
   "outputs": [
    {
     "name": "stdout",
     "output_type": "stream",
     "text": [
      "Best RandomForest params: {'max_depth': None, 'min_samples_split': 2, 'n_estimators': 200}\n",
      "Best ExtraTrees params: {'max_depth': None, 'min_samples_split': 5, 'n_estimators': 200}\n"
     ]
    }
   ],
   "source": [
    "#grid_log.fit(X_train, y_train)\n",
    "grid_rf.fit(X_train, y_train)\n",
    "grid_extra.fit(X_train, y_train)\n",
    "\n",
    "#best params\n",
    "print(\"Best RandomForest params:\", grid_rf.best_params_)\n",
    "print(\"Best ExtraTrees params:\", grid_extra.best_params_)"
   ]
  },
  {
   "cell_type": "code",
   "execution_count": 7,
   "id": "c818862d-99c8-4b4e-a7a7-4f3d64957c05",
   "metadata": {},
   "outputs": [],
   "source": [
    "#log_pred   = grid_log.predict(X_val)\n",
    "ran_pred   = grid_rf.predict(X_val)\n",
    "extra_pred = grid_extra.predict(X_val)"
   ]
  },
  {
   "cell_type": "code",
   "execution_count": 9,
   "id": "dc159737-536d-4b70-bc2a-255aac04cde1",
   "metadata": {},
   "outputs": [
    {
     "name": "stdout",
     "output_type": "stream",
     "text": [
      "RandomForest RMSE:  0.5975667514646512\n",
      "ExtraTrees RMSE:  0.41328825152966125\n"
     ]
    }
   ],
   "source": [
    "print(\"RandomForest RMSE: \", root_mean_squared_error(y_val, ran_pred))\n",
    "print(\"ExtraTrees RMSE: \", root_mean_squared_error(y_val, extra_pred))"
   ]
  },
  {
   "cell_type": "code",
   "execution_count": 10,
   "id": "176abfe6-70d4-4f5d-8479-f3e6857b9d6c",
   "metadata": {},
   "outputs": [
    {
     "name": "stdout",
     "output_type": "stream",
     "text": [
      "=== Random Forest ===\n",
      "              precision    recall  f1-score   support\n",
      "\n",
      "           0       0.99      0.98      0.99       806\n",
      "           1       1.00      0.84      0.91      3195\n",
      "           2       0.83      1.00      0.91      3135\n",
      "           3       0.95      0.99      0.97      1258\n",
      "           4       1.00      0.95      0.97       885\n",
      "           5       0.99      0.94      0.96       418\n",
      "           6       0.99      0.93      0.96       397\n",
      "           7       1.00      0.94      0.97       357\n",
      "           8       1.00      0.94      0.97       381\n",
      "           9       1.00      0.94      0.97       479\n",
      "\n",
      "    accuracy                           0.94     11311\n",
      "   macro avg       0.98      0.94      0.96     11311\n",
      "weighted avg       0.95      0.94      0.94     11311\n",
      "\n",
      "=== Extra Trees ===\n",
      "              precision    recall  f1-score   support\n",
      "\n",
      "           0       0.99      0.99      0.99       806\n",
      "           1       1.00      1.00      1.00      3195\n",
      "           2       0.98      1.00      0.99      3135\n",
      "           3       0.99      0.99      0.99      1258\n",
      "           4       1.00      0.98      0.99       885\n",
      "           5       1.00      0.96      0.98       418\n",
      "           6       0.99      0.96      0.98       397\n",
      "           7       1.00      0.98      0.99       357\n",
      "           8       1.00      0.95      0.97       381\n",
      "           9       1.00      0.99      0.99       479\n",
      "\n",
      "    accuracy                           0.99     11311\n",
      "   macro avg       0.99      0.98      0.99     11311\n",
      "weighted avg       0.99      0.99      0.99     11311\n",
      "\n"
     ]
    }
   ],
   "source": [
    "# Utvärdering\n",
    "#print(\"=== Logistic Regression ===\")\n",
    "#print(classification_report(y_val, log_pred))\n",
    "\n",
    "print(\"=== Random Forest ===\")\n",
    "print(classification_report(y_val, ran_pred))\n",
    "\n",
    "print(\"=== Extra Trees ===\")\n",
    "print(classification_report(y_val, extra_pred))\n"
   ]
  },
  {
   "cell_type": "code",
   "execution_count": null,
   "id": "99bf029a-b892-4934-9688-c01f75c64d53",
   "metadata": {},
   "outputs": [],
   "source": []
  },
  {
   "cell_type": "code",
   "execution_count": null,
   "id": "edf3786c-3bd2-4226-a36b-58ef7642567a",
   "metadata": {},
   "outputs": [],
   "source": []
  }
 ],
 "metadata": {
  "kernelspec": {
   "display_name": "Python 3 (ipykernel)",
   "language": "python",
   "name": "python3"
  },
  "language_info": {
   "codemirror_mode": {
    "name": "ipython",
    "version": 3
   },
   "file_extension": ".py",
   "mimetype": "text/x-python",
   "name": "python",
   "nbconvert_exporter": "python",
   "pygments_lexer": "ipython3",
   "version": "3.12.7"
  }
 },
 "nbformat": 4,
 "nbformat_minor": 5
}
