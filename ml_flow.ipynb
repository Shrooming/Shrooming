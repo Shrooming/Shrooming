{
 "cells": [
  {
   "metadata": {
    "ExecuteTime": {
     "end_time": "2025-09-16T12:34:03.931869Z",
     "start_time": "2025-09-16T12:34:03.926965Z"
    }
   },
   "cell_type": "code",
   "source": [
    "import os\n",
    "import numpy as np\n",
    "from keras.preprocessing.image import load_img, img_to_array\n",
    "from sklearn.model_selection import train_test_split\n",
    "from sklearn.ensemble import RandomForestClassifier\n",
    "from sklearn.metrics import accuracy_score, classification_report\n",
    "from skimage.feature import hog\n",
    "from sympy import sympify\n",
    "import cv2\n",
    "import matplotlib.pyplot as plt\n"
   ],
   "id": "5c98898eef2241e3",
   "outputs": [],
   "execution_count": 51
  },
  {
   "metadata": {
    "ExecuteTime": {
     "end_time": "2025-09-16T11:42:43.138555Z",
     "start_time": "2025-09-16T11:41:54.075245Z"
    }
   },
   "cell_type": "code",
   "source": [
    "data_dir = \"data\"\n",
    "img_size = 45\n",
    "\n",
    "# Collect labels\n",
    "symbol_labels = sorted([d for d in os.listdir(data_dir) if os.path.isdir(os.path.join(data_dir, d))])\n",
    "\n",
    "# Label mappings\n",
    "symbol_to_index = {label: idx for idx, label in enumerate(symbol_labels)}\n",
    "index_to_label = {v: k for k, v in symbol_to_index.items()}\n",
    "\n",
    "X_symbols, y_symbols = [], []\n",
    "\n",
    "# Load dataset images\n",
    "for label in symbol_labels:\n",
    "    folder_path = os.path.join(data_dir, label)\n",
    "    for file in os.listdir(folder_path):\n",
    "        if file.endswith(\".jpg\"):\n",
    "            try:\n",
    "                img_path = os.path.join(folder_path, file)\n",
    "                img = load_img(img_path, color_mode=\"grayscale\", target_size=(img_size, img_size))\n",
    "                img = img_to_array(img) / 255.0\n",
    "                X_symbols.append(img)\n",
    "                y_symbols.append(symbol_to_index[label])\n",
    "            except Exception as e:\n",
    "                print(f\"Error loading {img_path}: {e}\")\n",
    "\n",
    "# Convert to numpy arrays\n",
    "X_all = np.array(X_symbols)\n",
    "y_all = np.array(y_symbols)\n",
    "\n",
    "print(\"Dataset loaded:\", X_all.shape, y_all.shape)\n",
    "print(\"Classes:\", index_to_label)\n"
   ],
   "id": "70bb1767c242fb58",
   "outputs": [
    {
     "name": "stdout",
     "output_type": "stream",
     "text": [
      "Dataset loaded: (200636, 45, 45, 1) (200636,)\n",
      "Classes: {0: '!', 1: '(', 2: ')', 3: '+', 4: ',', 5: '-', 6: '0', 7: '1', 8: '2', 9: '3', 10: '4', 11: '5', 12: '6', 13: '7', 14: '8', 15: '9', 16: '=', 17: '[', 18: ']', 19: '{', 20: '}'}\n"
     ]
    }
   ],
   "execution_count": 13
  },
  {
   "metadata": {
    "ExecuteTime": {
     "end_time": "2025-09-16T11:49:00.267268Z",
     "start_time": "2025-09-16T11:42:43.171796Z"
    }
   },
   "cell_type": "code",
   "source": [
    "# Train/test split\n",
    "X_train, X_test, y_train, y_test = train_test_split(X_all, y_all, test_size=0.2, random_state=42)\n",
    "\n",
    "# Extract HOG features\n",
    "def extract_hog_features(images):\n",
    "    features = []\n",
    "    for img in images:\n",
    "        img = img.squeeze()  # 45x45\n",
    "        hog_feat = hog(\n",
    "            img,\n",
    "            orientations=9,\n",
    "            pixels_per_cell=(4,4),\n",
    "            cells_per_block=(2,2),\n",
    "            block_norm=\"L2-Hys\"\n",
    "        )\n",
    "        features.append(hog_feat)\n",
    "    return np.array(features)\n",
    "\n",
    "X_train_hog = extract_hog_features(X_train)\n",
    "X_test_hog = extract_hog_features(X_test)\n",
    "\n",
    "print(\"HOG feature shape (per image):\", X_train_hog.shape[1])"
   ],
   "id": "eb87b74413d69fec",
   "outputs": [
    {
     "name": "stdout",
     "output_type": "stream",
     "text": [
      "HOG feature shape (per image): 3600\n"
     ]
    }
   ],
   "execution_count": 14
  },
  {
   "metadata": {
    "ExecuteTime": {
     "end_time": "2025-09-16T11:52:09.356343Z",
     "start_time": "2025-09-16T11:49:00.305939Z"
    }
   },
   "cell_type": "code",
   "source": [
    "rf_hog = RandomForestClassifier(\n",
    "    n_estimators=200,\n",
    "    random_state=42,\n",
    "    n_jobs=-1\n",
    ")\n",
    "\n",
    "rf_hog.fit(X_train_hog, y_train)\n",
    "\n",
    "# Evaluate\n",
    "y_pred_hog = rf_hog.predict(X_test_hog)\n",
    "print(\"Accuracy:\", accuracy_score(y_test, y_pred_hog))\n",
    "print(\"\\nClassification report:\\n\",\n",
    "      classification_report(y_test, y_pred_hog,\n",
    "                            target_names=[index_to_label[i] for i in sorted(index_to_label)]))"
   ],
   "id": "85d2d1c5fd47da20",
   "outputs": [
    {
     "name": "stdout",
     "output_type": "stream",
     "text": [
      "Accuracy: 0.9978568580542265\n",
      "\n",
      "Classification report:\n",
      "               precision    recall  f1-score   support\n",
      "\n",
      "           !       1.00      1.00      1.00       272\n",
      "           (       1.00      1.00      1.00      2839\n",
      "           )       1.00      1.00      1.00      2775\n",
      "           +       1.00      1.00      1.00      5098\n",
      "           ,       0.98      0.90      0.94       351\n",
      "           -       1.00      1.00      1.00      6768\n",
      "           0       1.00      1.00      1.00      1397\n",
      "           1       0.99      1.00      0.99      5283\n",
      "           2       1.00      1.00      1.00      5175\n",
      "           3       1.00      1.00      1.00      2262\n",
      "           4       1.00      0.99      1.00      1524\n",
      "           5       1.00      0.99      0.99       739\n",
      "           6       1.00      1.00      1.00       658\n",
      "           7       1.00      0.99      1.00       583\n",
      "           8       1.00      1.00      1.00       632\n",
      "           9       1.00      1.00      1.00       752\n",
      "           =       1.00      1.00      1.00      2580\n",
      "           [       1.00      1.00      1.00       159\n",
      "           ]       1.00      1.00      1.00       154\n",
      "           {       1.00      1.00      1.00        60\n",
      "           }       1.00      0.97      0.98        67\n",
      "\n",
      "    accuracy                           1.00     40128\n",
      "   macro avg       1.00      0.99      1.00     40128\n",
      "weighted avg       1.00      1.00      1.00     40128\n",
      "\n"
     ]
    }
   ],
   "execution_count": 15
  },
  {
   "metadata": {
    "ExecuteTime": {
     "end_time": "2025-09-16T12:27:15.931111Z",
     "start_time": "2025-09-16T12:27:15.360278Z"
    }
   },
   "cell_type": "code",
   "source": [
    "import joblib\n",
    "\n",
    "joblib.dump(rf_hog, \"models/rf_hog.pkl\")"
   ],
   "id": "de010552d77fea3b",
   "outputs": [
    {
     "data": {
      "text/plain": [
       "['models/rf_hog.pkl']"
      ]
     },
     "execution_count": 50,
     "metadata": {},
     "output_type": "execute_result"
    }
   ],
   "execution_count": 50
  },
  {
   "metadata": {
    "ExecuteTime": {
     "end_time": "2025-09-16T12:56:28.890733Z",
     "start_time": "2025-09-16T12:56:28.848183Z"
    }
   },
   "cell_type": "code",
   "source": [
    "rf_hog = joblib.load(\"random_forest_hog.pkl\")\n",
    "\n",
    "y_pred = rf_hog.predict(X_test_hog)\n",
    "print(\"Loaded model accuracy:\", accuracy_score(y_test, y_pred))"
   ],
   "id": "4bf96a5c3fd4e484",
   "outputs": [
    {
     "ename": "FileNotFoundError",
     "evalue": "[Errno 2] No such file or directory: 'random_forest_hog.pkl'",
     "output_type": "error",
     "traceback": [
      "\u001B[31m---------------------------------------------------------------------------\u001B[39m",
      "\u001B[31mFileNotFoundError\u001B[39m                         Traceback (most recent call last)",
      "\u001B[36mCell\u001B[39m\u001B[36m \u001B[39m\u001B[32mIn[53]\u001B[39m\u001B[32m, line 1\u001B[39m\n\u001B[32m----> \u001B[39m\u001B[32m1\u001B[39m rf_hog = \u001B[43mjoblib\u001B[49m\u001B[43m.\u001B[49m\u001B[43mload\u001B[49m\u001B[43m(\u001B[49m\u001B[33;43m\"\u001B[39;49m\u001B[33;43mrandom_forest_hog.pkl\u001B[39;49m\u001B[33;43m\"\u001B[39;49m\u001B[43m)\u001B[49m\n\u001B[32m      3\u001B[39m y_pred = rf_hog.predict(X_test_hog)\n\u001B[32m      4\u001B[39m \u001B[38;5;28mprint\u001B[39m(\u001B[33m\"\u001B[39m\u001B[33mLoaded model accuracy:\u001B[39m\u001B[33m\"\u001B[39m, accuracy_score(y_test, y_pred))\n",
      "\u001B[36mFile \u001B[39m\u001B[32m~\\PycharmProjects\\Shrooming\\.venv\\Lib\\site-packages\\joblib\\numpy_pickle.py:735\u001B[39m, in \u001B[36mload\u001B[39m\u001B[34m(filename, mmap_mode, ensure_native_byte_order)\u001B[39m\n\u001B[32m    733\u001B[39m         obj = _unpickle(fobj, ensure_native_byte_order=ensure_native_byte_order)\n\u001B[32m    734\u001B[39m \u001B[38;5;28;01melse\u001B[39;00m:\n\u001B[32m--> \u001B[39m\u001B[32m735\u001B[39m     \u001B[38;5;28;01mwith\u001B[39;00m \u001B[38;5;28;43mopen\u001B[39;49m\u001B[43m(\u001B[49m\u001B[43mfilename\u001B[49m\u001B[43m,\u001B[49m\u001B[43m \u001B[49m\u001B[33;43m\"\u001B[39;49m\u001B[33;43mrb\u001B[39;49m\u001B[33;43m\"\u001B[39;49m\u001B[43m)\u001B[49m \u001B[38;5;28;01mas\u001B[39;00m f:\n\u001B[32m    736\u001B[39m         \u001B[38;5;28;01mwith\u001B[39;00m _validate_fileobject_and_memmap(f, filename, mmap_mode) \u001B[38;5;28;01mas\u001B[39;00m (\n\u001B[32m    737\u001B[39m             fobj,\n\u001B[32m    738\u001B[39m             validated_mmap_mode,\n\u001B[32m    739\u001B[39m         ):\n\u001B[32m    740\u001B[39m             \u001B[38;5;28;01mif\u001B[39;00m \u001B[38;5;28misinstance\u001B[39m(fobj, \u001B[38;5;28mstr\u001B[39m):\n\u001B[32m    741\u001B[39m                 \u001B[38;5;66;03m# if the returned file object is a string, this means we\u001B[39;00m\n\u001B[32m    742\u001B[39m                 \u001B[38;5;66;03m# try to load a pickle file generated with an version of\u001B[39;00m\n\u001B[32m    743\u001B[39m                 \u001B[38;5;66;03m# Joblib so we load it with joblib compatibility function.\u001B[39;00m\n",
      "\u001B[31mFileNotFoundError\u001B[39m: [Errno 2] No such file or directory: 'random_forest_hog.pkl'"
     ]
    }
   ],
   "execution_count": 53
  },
  {
   "metadata": {
    "ExecuteTime": {
     "end_time": "2025-09-16T12:24:53.308006Z",
     "start_time": "2025-09-16T12:24:53.304738Z"
    }
   },
   "cell_type": "code",
   "source": [
    "def solve_expression(expr):\n",
    "    # Safely evaluate a math expression string. Uses sympy to avoid Python's eval() risks.\n",
    "    try:\n",
    "        result = sympify(expr).evalf()  # sympy safely parses the math expression\n",
    "        return result\n",
    "    except Exception as e:\n",
    "        return f\"Error solving expression: {e}\"\n"
   ],
   "id": "8139294186b62807",
   "outputs": [],
   "execution_count": 49
  },
  {
   "metadata": {
    "ExecuteTime": {
     "end_time": "2025-09-16T13:08:30.805919Z",
     "start_time": "2025-09-16T13:08:30.799411Z"
    }
   },
   "cell_type": "code",
   "source": [
    "def segment_expression(img_path, img_size=45, show_steps=False):\n",
    "    img = cv2.imread(img_path, cv2.IMREAD_GRAYSCALE)\n",
    "\n",
    "    # Threshold (invert so text is white)\n",
    "    _, thresh = cv2.threshold(img, 128, 255, cv2.THRESH_BINARY_INV)\n",
    "\n",
    "    # Find contours\n",
    "    contours, _ = cv2.findContours(thresh, cv2.RETR_EXTERNAL, cv2.CHAIN_APPROX_SIMPLE)\n",
    "\n",
    "    symbol_imgs = []\n",
    "    bounding_boxes = []\n",
    "\n",
    "    for cnt in contours:\n",
    "        x, y, w, h = cv2.boundingRect(cnt)\n",
    "        \"\"\"\n",
    "        # Skip very small contours\n",
    "        if w < 5 or h < 5:\n",
    "            continue\n",
    "        \"\"\"\n",
    "        roi = thresh[y:y+h, x:x+w]\n",
    "\n",
    "        # Add padding to make square\n",
    "        side = max(w, h)\n",
    "        square = np.zeros((side, side), dtype=np.uint8)\n",
    "        square[(side-h)//2:(side-h)//2+h, (side-w)//2:(side-w)//2+w] = roi\n",
    "\n",
    "        # Resize to 45x45\n",
    "        roi_resized = cv2.resize(square, (img_size, img_size), interpolation=cv2.INTER_AREA)\n",
    "\n",
    "        # Normalize\n",
    "        roi_resized = roi_resized.astype(\"float32\") / 255.0\n",
    "        roi_resized = np.expand_dims(roi_resized, axis=-1)\n",
    "\n",
    "        symbol_imgs.append(roi_resized)\n",
    "        bounding_boxes.append((x, y, w, h))\n",
    "\n",
    "    # Sort symbols left-to-right\n",
    "    sorted_symbols = [s for _, s in sorted(zip(bounding_boxes, symbol_imgs), key=lambda b: b[0][0])]\n",
    "\n",
    "    if show_steps:\n",
    "        plt.imshow(thresh, cmap=\"gray\")\n",
    "        plt.title(\"Thresholded image\")\n",
    "        plt.show()\n",
    "\n",
    "        for i, s in enumerate(sorted_symbols):\n",
    "            plt.subplot(1, len(sorted_symbols), i+1)\n",
    "            plt.imshow(s.squeeze(), cmap=\"gray\")\n",
    "            plt.axis(\"off\")\n",
    "        plt.show()\n",
    "\n",
    "    return sorted_symbols\n"
   ],
   "id": "28b1540b5e4deb6c",
   "outputs": [],
   "execution_count": 55
  },
  {
   "metadata": {
    "ExecuteTime": {
     "end_time": "2025-09-16T12:14:18.233968Z",
     "start_time": "2025-09-16T12:14:18.228Z"
    }
   },
   "cell_type": "code",
   "source": [
    "def classify_expression(img_path):\n",
    "    symbols = segment_expression(img_path, img_size=45, show_steps=True)\n",
    "    predicted_chars = [predict_symbol_rf_hog(s) for s in symbols]\n",
    "    return \"\".join(predicted_chars)\n",
    "\n",
    "def solve_expression(expr):\n",
    "    try:\n",
    "        return sympify(expr).evalf()\n",
    "    except Exception as e:\n",
    "        return f\"Error: {e}\""
   ],
   "id": "3a4b6e1cdd648d57",
   "outputs": [],
   "execution_count": 36
  },
  {
   "metadata": {
    "ExecuteTime": {
     "end_time": "2025-09-16T12:14:19.956140Z",
     "start_time": "2025-09-16T12:14:19.951766Z"
    }
   },
   "cell_type": "code",
   "source": [
    "# Predicting with hog instead of just RF\n",
    "def predict_symbol_rf_hog(img):\n",
    "    img = img.squeeze()\n",
    "    hog_feat = hog(\n",
    "        img,\n",
    "        orientations=9,\n",
    "        pixels_per_cell=(4, 4),\n",
    "        cells_per_block=(2, 2),\n",
    "        block_norm=\"L2-Hys\"\n",
    "    ).reshape(1, -1)\n",
    "\n",
    "    pred_idx = rf_hog.predict(hog_feat)[0]\n",
    "    return index_to_label[pred_idx]"
   ],
   "id": "99250f664ed7dc3e",
   "outputs": [],
   "execution_count": 37
  },
  {
   "metadata": {
    "ExecuteTime": {
     "end_time": "2025-09-16T12:15:15.297006Z",
     "start_time": "2025-09-16T12:15:15.288950Z"
    }
   },
   "cell_type": "code",
   "source": [
    "# Sanity check\n",
    "test_symbol = segment_expression(\"test_images/math_img.png\", img_size=45)[0]\n",
    "print(\"Segment shape:\", test_symbol.shape)\n",
    "\n",
    "from skimage.feature import hog\n",
    "feat = hog(test_symbol.squeeze(),\n",
    "           orientations=9,\n",
    "           pixels_per_cell=(4,4),\n",
    "           cells_per_block=(2,2),\n",
    "           block_norm=\"L2-Hys\").reshape(1,-1)\n",
    "print(\"HOG length:\", feat.shape[1])"
   ],
   "id": "c3e189d049f8cc34",
   "outputs": [
    {
     "name": "stdout",
     "output_type": "stream",
     "text": [
      "Segment shape: (45, 45, 1)\n",
      "HOG length: 3600\n"
     ]
    }
   ],
   "execution_count": 40
  },
  {
   "metadata": {
    "ExecuteTime": {
     "end_time": "2025-09-16T13:09:06.472416Z",
     "start_time": "2025-09-16T13:09:06.084446Z"
    }
   },
   "cell_type": "code",
   "source": [
    "# Example: feed an image\n",
    "expr_img = \"test_images/math_img.png\"\n",
    "\n",
    "expr_str = classify_expression(expr_img)\n",
    "print(\"Recognized expression:\", expr_str)\n",
    "\n",
    "result = solve_expression(expr_str)\n",
    "print(\"Result:\", result)\n"
   ],
   "id": "77d64d52ac4cc9fe",
   "outputs": [
    {
     "data": {
      "text/plain": [
       "<Figure size 640x480 with 1 Axes>"
      ],
      "image/png": "[encoded data removed]"
     },
     "metadata": {},
     "output_type": "display_data"
    },
    {
     "data": {
      "text/plain": [
       "<Figure size 640x480 with 3 Axes>"
      ],
      "image/png": "[encoded data removed]"
     },
     "metadata": {},
     "output_type": "display_data"
    },
    {
     "name": "stdout",
     "output_type": "stream",
     "text": [
      "Recognized expression: 3-2\n",
      "Result: 1.00000000000000\n"
     ]
    }
   ],
   "execution_count": 57
  }
 ],
 "metadata": {
  "kernelspec": {
   "display_name": "Python 3",
   "language": "python",
   "name": "python3"
  },
  "language_info": {
   "codemirror_mode": {
    "name": "ipython",
    "version": 2
   },
   "file_extension": ".py",
   "mimetype": "text/x-python",
   "name": "python",
   "nbconvert_exporter": "python",
   "pygments_lexer": "ipython2",
   "version": "2.7.6"
  }
 },
 "nbformat": 4,
 "nbformat_minor": 5
}
