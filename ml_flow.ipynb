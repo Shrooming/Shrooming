{
 "cells": [
  {
   "metadata": {
    "ExecuteTime": {
     "end_time": "2025-09-16T11:41:54.051846Z",
     "start_time": "2025-09-16T11:41:54.046564Z"
    }
   },
   "cell_type": "code",
   "source": [
    "import os\n",
    "import numpy as np\n",
    "from keras.preprocessing.image import load_img, img_to_array\n",
    "from sklearn.model_selection import train_test_split\n",
    "from sklearn.ensemble import RandomForestClassifier\n",
    "from sklearn.metrics import accuracy_score, classification_report\n",
    "from skimage.feature import hog\n",
    "from sympy import sympify\n",
    "import cv2\n",
    "import matplotlib.pyplot as plt\n"
   ],
   "id": "5c98898eef2241e3",
   "outputs": [],
   "execution_count": 12
  },
  {
   "metadata": {
    "ExecuteTime": {
     "end_time": "2025-09-16T11:42:43.138555Z",
     "start_time": "2025-09-16T11:41:54.075245Z"
    }
   },
   "cell_type": "code",
   "source": [
    "data_dir = \"data\"\n",
    "img_size = 45\n",
    "\n",
    "# Collect labels\n",
    "symbol_labels = sorted([d for d in os.listdir(data_dir) if os.path.isdir(os.path.join(data_dir, d))])\n",
    "\n",
    "# Label mappings\n",
    "symbol_to_index = {label: idx for idx, label in enumerate(symbol_labels)}\n",
    "index_to_label = {v: k for k, v in symbol_to_index.items()}\n",
    "\n",
    "X_symbols, y_symbols = [], []\n",
    "\n",
    "# Load dataset images\n",
    "for label in symbol_labels:\n",
    "    folder_path = os.path.join(data_dir, label)\n",
    "    for file in os.listdir(folder_path):\n",
    "        if file.endswith(\".jpg\"):\n",
    "            try:\n",
    "                img_path = os.path.join(folder_path, file)\n",
    "                img = load_img(img_path, color_mode=\"grayscale\", target_size=(img_size, img_size))\n",
    "                img = img_to_array(img) / 255.0\n",
    "                X_symbols.append(img)\n",
    "                y_symbols.append(symbol_to_index[label])\n",
    "            except Exception as e:\n",
    "                print(f\"Error loading {img_path}: {e}\")\n",
    "\n",
    "# Convert to numpy arrays\n",
    "X_all = np.array(X_symbols)\n",
    "y_all = np.array(y_symbols)\n",
    "\n",
    "print(\"Dataset loaded:\", X_all.shape, y_all.shape)\n",
    "print(\"Classes:\", index_to_label)\n"
   ],
   "id": "70bb1767c242fb58",
   "outputs": [
    {
     "name": "stdout",
     "output_type": "stream",
     "text": [
      "Dataset loaded: (200636, 45, 45, 1) (200636,)\n",
      "Classes: {0: '!', 1: '(', 2: ')', 3: '+', 4: ',', 5: '-', 6: '0', 7: '1', 8: '2', 9: '3', 10: '4', 11: '5', 12: '6', 13: '7', 14: '8', 15: '9', 16: '=', 17: '[', 18: ']', 19: '{', 20: '}'}\n"
     ]
    }
   ],
   "execution_count": 13
  },
  {
   "metadata": {
    "ExecuteTime": {
     "end_time": "2025-09-16T11:49:00.267268Z",
     "start_time": "2025-09-16T11:42:43.171796Z"
    }
   },
   "cell_type": "code",
   "source": [
    "# Train/test split\n",
    "X_train, X_test, y_train, y_test = train_test_split(X_all, y_all, test_size=0.2, random_state=42)\n",
    "\n",
    "# Extract HOG features\n",
    "def extract_hog_features(images):\n",
    "    features = []\n",
    "    for img in images:\n",
    "        img = img.squeeze()  # (28,28)\n",
    "        hog_feat = hog(\n",
    "            img,\n",
    "            orientations=9,\n",
    "            pixels_per_cell=(4,4),\n",
    "            cells_per_block=(2,2),\n",
    "            block_norm=\"L2-Hys\"\n",
    "        )\n",
    "        features.append(hog_feat)\n",
    "    return np.array(features)\n",
    "\n",
    "X_train_hog = extract_hog_features(X_train)\n",
    "X_test_hog = extract_hog_features(X_test)\n",
    "\n",
    "print(\"HOG feature shape (per image):\", X_train_hog.shape[1])"
   ],
   "id": "eb87b74413d69fec",
   "outputs": [
    {
     "name": "stdout",
     "output_type": "stream",
     "text": [
      "HOG feature shape (per image): 3600\n"
     ]
    }
   ],
   "execution_count": 14
  },
  {
   "metadata": {
    "ExecuteTime": {
     "end_time": "2025-09-16T11:52:09.356343Z",
     "start_time": "2025-09-16T11:49:00.305939Z"
    }
   },
   "cell_type": "code",
   "source": [
    "rf_hog = RandomForestClassifier(\n",
    "    n_estimators=200,\n",
    "    random_state=42,\n",
    "    n_jobs=-1\n",
    ")\n",
    "\n",
    "rf_hog.fit(X_train_hog, y_train)\n",
    "\n",
    "# Evaluate\n",
    "y_pred_hog = rf_hog.predict(X_test_hog)\n",
    "print(\"Accuracy:\", accuracy_score(y_test, y_pred_hog))\n",
    "print(\"\\nClassification report:\\n\",\n",
    "      classification_report(y_test, y_pred_hog,\n",
    "                            target_names=[index_to_label[i] for i in sorted(index_to_label)]))"
   ],
   "id": "85d2d1c5fd47da20",
   "outputs": [
    {
     "name": "stdout",
     "output_type": "stream",
     "text": [
      "Accuracy: 0.9978568580542265\n",
      "\n",
      "Classification report:\n",
      "               precision    recall  f1-score   support\n",
      "\n",
      "           !       1.00      1.00      1.00       272\n",
      "           (       1.00      1.00      1.00      2839\n",
      "           )       1.00      1.00      1.00      2775\n",
      "           +       1.00      1.00      1.00      5098\n",
      "           ,       0.98      0.90      0.94       351\n",
      "           -       1.00      1.00      1.00      6768\n",
      "           0       1.00      1.00      1.00      1397\n",
      "           1       0.99      1.00      0.99      5283\n",
      "           2       1.00      1.00      1.00      5175\n",
      "           3       1.00      1.00      1.00      2262\n",
      "           4       1.00      0.99      1.00      1524\n",
      "           5       1.00      0.99      0.99       739\n",
      "           6       1.00      1.00      1.00       658\n",
      "           7       1.00      0.99      1.00       583\n",
      "           8       1.00      1.00      1.00       632\n",
      "           9       1.00      1.00      1.00       752\n",
      "           =       1.00      1.00      1.00      2580\n",
      "           [       1.00      1.00      1.00       159\n",
      "           ]       1.00      1.00      1.00       154\n",
      "           {       1.00      1.00      1.00        60\n",
      "           }       1.00      0.97      0.98        67\n",
      "\n",
      "    accuracy                           1.00     40128\n",
      "   macro avg       1.00      0.99      1.00     40128\n",
      "weighted avg       1.00      1.00      1.00     40128\n",
      "\n"
     ]
    }
   ],
   "execution_count": 15
  },
  {
   "metadata": {
    "ExecuteTime": {
     "end_time": "2025-09-16T11:58:13.758743Z",
     "start_time": "2025-09-16T11:58:13.754099Z"
    }
   },
   "cell_type": "code",
   "source": [
    "from sympy import sympify\n",
    "\n",
    "def solve_expression(expr):\n",
    "    # Safely evaluate a math expression string. Uses sympy to avoid Python's eval() risks.\n",
    "    try:\n",
    "        result = sympify(expr).evalf()  # sympy safely parses the math expression\n",
    "        return result\n",
    "    except Exception as e:\n",
    "        return f\"Error solving expression: {e}\"\n"
   ],
   "id": "8139294186b62807",
   "outputs": [],
   "execution_count": 21
  },
  {
   "metadata": {
    "ExecuteTime": {
     "end_time": "2025-09-16T11:58:16.909666Z",
     "start_time": "2025-09-16T11:58:16.903718Z"
    }
   },
   "cell_type": "code",
   "source": [
    "def segment_expression(img_path, img_size=45, show_steps=False):\n",
    "    img = cv2.imread(img_path, cv2.IMREAD_GRAYSCALE)\n",
    "\n",
    "    # Threshold (invert so text is white)\n",
    "    _, thresh = cv2.threshold(img, 128, 255, cv2.THRESH_BINARY_INV)\n",
    "\n",
    "    # Find contours\n",
    "    contours, _ = cv2.findContours(thresh, cv2.RETR_EXTERNAL, cv2.CHAIN_APPROX_SIMPLE)\n",
    "\n",
    "    symbol_imgs = []\n",
    "    bounding_boxes = []\n",
    "\n",
    "    for cnt in contours:\n",
    "        x, y, w, h = cv2.boundingRect(cnt)\n",
    "\n",
    "        # Skip very small contours\n",
    "        if w < 5 or h < 5:\n",
    "            continue\n",
    "\n",
    "        roi = thresh[y:y+h, x:x+w]\n",
    "\n",
    "        # Add padding to make square\n",
    "        side = max(w, h)\n",
    "        square = np.zeros((side, side), dtype=np.uint8)\n",
    "        square[(side-h)//2:(side-h)//2+h, (side-w)//2:(side-w)//2+w] = roi\n",
    "\n",
    "        # Resize to 45x45\n",
    "        roi_resized = cv2.resize(square, (img_size, img_size), interpolation=cv2.INTER_AREA)\n",
    "\n",
    "        # Normalize\n",
    "        roi_resized = roi_resized.astype(\"float32\") / 255.0\n",
    "        roi_resized = np.expand_dims(roi_resized, axis=-1)\n",
    "\n",
    "        symbol_imgs.append(roi_resized)\n",
    "        bounding_boxes.append((x, y, w, h))\n",
    "\n",
    "    # Sort symbols left-to-right\n",
    "    sorted_symbols = [s for _, s in sorted(zip(bounding_boxes, symbol_imgs), key=lambda b: b[0][0])]\n",
    "\n",
    "    if show_steps:\n",
    "        plt.imshow(thresh, cmap=\"gray\")\n",
    "        plt.title(\"Thresholded image\")\n",
    "        plt.show()\n",
    "\n",
    "        for i, s in enumerate(sorted_symbols):\n",
    "            plt.subplot(1, len(sorted_symbols), i+1)\n",
    "            plt.imshow(s.squeeze(), cmap=\"gray\")\n",
    "            plt.axis(\"off\")\n",
    "        plt.show()\n",
    "\n",
    "    return sorted_symbols\n"
   ],
   "id": "28b1540b5e4deb6c",
   "outputs": [],
   "execution_count": 23
  },
  {
   "metadata": {
    "ExecuteTime": {
     "end_time": "2025-09-16T11:58:19.381156Z",
     "start_time": "2025-09-16T11:58:19.376954Z"
    }
   },
   "cell_type": "code",
   "source": [
    "def classify_expression(img_path):\n",
    "    symbols = segment_expression(img_path, img_size=45, show_steps=True)\n",
    "    predicted_chars = [predict_symbol_rf_hog(s) for s in symbols]\n",
    "    return \"\".join(predicted_chars)\n",
    "\n",
    "def solve_expression(expr):\n",
    "    try:\n",
    "        return sympify(expr).evalf()\n",
    "    except Exception as e:\n",
    "        return f\"Error: {e}\""
   ],
   "id": "3a4b6e1cdd648d57",
   "outputs": [],
   "execution_count": 24
  },
  {
   "metadata": {
    "ExecuteTime": {
     "end_time": "2025-09-16T11:58:21.664620Z",
     "start_time": "2025-09-16T11:58:21.660459Z"
    }
   },
   "cell_type": "code",
   "source": [
    "# Predicting with hog instead of just RF\n",
    "def predict_symbol_rf_hog(img):\n",
    "    img = img.squeeze()\n",
    "    hog_feat = hog(\n",
    "        img,\n",
    "        orientations=9,\n",
    "        pixels_per_cell=(4, 4),\n",
    "        cells_per_block=(2, 2),\n",
    "        block_norm=\"L2-Hys\"\n",
    "    ).reshape(1, -1)\n",
    "\n",
    "    pred_idx = rf_hog.predict(hog_feat)[0]\n",
    "    return index_to_label[pred_idx]"
   ],
   "id": "99250f664ed7dc3e",
   "outputs": [],
   "execution_count": 25
  },
  {
   "metadata": {
    "ExecuteTime": {
     "end_time": "2025-09-16T11:58:24.013285Z",
     "start_time": "2025-09-16T11:58:24.005250Z"
    }
   },
   "cell_type": "code",
   "source": [
    "# Sanity check\n",
    "test_symbol = segment_expression(\"test_images/math_img.png\", img_size=45)[0]\n",
    "print(\"Segment shape:\", test_symbol.shape)\n",
    "\n",
    "from skimage.feature import hog\n",
    "feat = hog(test_symbol.squeeze(),\n",
    "           orientations=9,\n",
    "           pixels_per_cell=(4,4),\n",
    "           cells_per_block=(2,2),\n",
    "           block_norm=\"L2-Hys\").reshape(1,-1)\n",
    "print(\"HOG length:\", feat.shape[1])"
   ],
   "id": "c3e189d049f8cc34",
   "outputs": [
    {
     "name": "stdout",
     "output_type": "stream",
     "text": [
      "Segment shape: (45, 45, 1)\n",
      "HOG length: 3600\n"
     ]
    }
   ],
   "execution_count": 26
  },
  {
   "metadata": {
    "ExecuteTime": {
     "end_time": "2025-09-16T11:58:32.597137Z",
     "start_time": "2025-09-16T11:58:32.321525Z"
    }
   },
   "cell_type": "code",
   "source": [
    "# Example: feed an image\n",
    "expr_img = \"test_images/math_img.png\"\n",
    "\n",
    "expr_str = classify_expression(expr_img)\n",
    "print(\"Recognized expression:\", expr_str)\n",
    "\n",
    "result = solve_expression(expr_str)\n",
    "print(\"Result:\", result)\n"
   ],
   "id": "77d64d52ac4cc9fe",
   "outputs": [
    {
     "data": {
      "text/plain": [
       "<Figure size 640x480 with 1 Axes>"
      ],
      "image/png": "[encoded data removed]"
     },
     "metadata": {},
     "output_type": "display_data"
    },
    {
     "data": {
      "text/plain": [
       "<Figure size 640x480 with 3 Axes>"
      ],
      "image/png": "[encoded data removed]"
     },
     "metadata": {},
     "output_type": "display_data"
    },
    {
     "name": "stdout",
     "output_type": "stream",
     "text": [
      "Recognized expression: 2+2\n",
      "Result: 4.00000000000000\n"
     ]
    }
   ],
   "execution_count": 27
  },
  {
   "metadata": {
    "ExecuteTime": {
     "end_time": "2025-09-16T11:52:09.781611300Z",
     "start_time": "2025-09-16T09:39:42.633023Z"
    }
   },
   "cell_type": "code",
   "source": [
    "# Feature importance heatmap\n",
    "import matplotlib.pyplot as plt\n",
    "import numpy as np\n",
    "\n",
    "def plot_rf_feature_importances(rf_model, img_size=28):\n",
    "    \"\"\"\n",
    "    Plot pixel importance heatmap for a trained RandomForestClassifier.\n",
    "    \"\"\"\n",
    "    # Get feature importances\n",
    "    importances = rf_model.feature_importances_\n",
    "\n",
    "    # Reshape back into image grid (28x28)\n",
    "    heatmap = importances.reshape(img_size, img_size)\n",
    "\n",
    "    # Plot heatmap\n",
    "    plt.figure(figsize=(6,6))\n",
    "    plt.imshow(heatmap, cmap=\"hot\", interpolation=\"nearest\")\n",
    "    plt.colorbar(label=\"Importance\")\n",
    "    plt.title(\"RandomForest Pixel Importances\")\n",
    "    plt.axis(\"off\")\n",
    "    plt.show()\n",
    "\n",
    "# Example: use your tuned RandomForest\n",
    "plot_rf_feature_importances(rf_hog, img_size=45)"
   ],
   "id": "90a9b15acedebf39",
   "outputs": [
    {
     "data": {
      "text/plain": [
       "<Figure size 600x600 with 2 Axes>"
      ],
      "image/png": "[encoded data removed]"
     },
     "metadata": {},
     "output_type": "display_data"
    }
   ],
   "execution_count": 25
  }
 ],
 "metadata": {
  "kernelspec": {
   "display_name": "Python 3",
   "language": "python",
   "name": "python3"
  },
  "language_info": {
   "codemirror_mode": {
    "name": "ipython",
    "version": 2
   },
   "file_extension": ".py",
   "mimetype": "text/x-python",
   "name": "python",
   "nbconvert_exporter": "python",
   "pygments_lexer": "ipython2",
   "version": "2.7.6"
  }
 },
 "nbformat": 4,
 "nbformat_minor": 5
}
