{
 "cells": [
  {
   "metadata": {
    "ExecuteTime": {
     "end_time": "2025-09-21T19:13:41.405724Z",
     "start_time": "2025-09-21T19:13:41.401133Z"
    }
   },
   "cell_type": "code",
   "source": [
    "import os\n",
    "import numpy as np\n",
    "from keras.preprocessing.image import load_img, img_to_array\n",
    "from sklearn.model_selection import train_test_split\n",
    "from sklearn.ensemble import RandomForestClassifier\n",
    "from sklearn.metrics import accuracy_score, classification_report, confusion_matrix, ConfusionMatrixDisplay\n",
    "from skimage.feature import hog\n",
    "from sympy import sympify\n",
    "import cv2\n",
    "import matplotlib.pyplot as plt\n",
    "import joblib"
   ],
   "id": "76253f6ae0dc1255",
   "outputs": [],
   "execution_count": 91
  },
  {
   "metadata": {
    "ExecuteTime": {
     "end_time": "2025-09-21T18:56:35.583145Z",
     "start_time": "2025-09-21T18:55:39.332183Z"
    }
   },
   "cell_type": "code",
   "source": [
    "data_dir = \"data\"\n",
    "img_size = 45\n",
    "\n",
    "# Collect labels\n",
    "symbol_labels = sorted([d for d in os.listdir(data_dir) if os.path.isdir(os.path.join(data_dir, d))])\n",
    "\n",
    "# Label mappings\n",
    "symbol_to_index = {label: idx for idx, label in enumerate(symbol_labels)}\n",
    "index_to_label = {v: k for k, v in symbol_to_index.items()}\n",
    "\n",
    "X_symbols, y_symbols = [], []\n",
    "\n",
    "# Load dataset images\n",
    "for label in symbol_labels:\n",
    "    folder_path = os.path.join(data_dir, label)\n",
    "    for file in os.listdir(folder_path):\n",
    "        if file.endswith(\".jpg\"):\n",
    "            try:\n",
    "                img_path = os.path.join(folder_path, file)\n",
    "                img = load_img(img_path, color_mode=\"grayscale\", target_size=(img_size, img_size))\n",
    "                img = img_to_array(img) / 255.0\n",
    "                X_symbols.append(img)\n",
    "                y_symbols.append(symbol_to_index[label])\n",
    "            except Exception as e:\n",
    "                print(f\"Error loading {img_path}: {e}\")\n",
    "\n",
    "# Convert to numpy arrays\n",
    "X_all = np.array(X_symbols)\n",
    "y_all = np.array(y_symbols)\n",
    "\n",
    "print(\"Dataset loaded:\", X_all.shape, y_all.shape)\n",
    "print(\"Classes:\", index_to_label)"
   ],
   "id": "714a186189058f6f",
   "outputs": [
    {
     "name": "stdout",
     "output_type": "stream",
     "text": [
      "Dataset loaded: (234641, 45, 45, 1) (234641,)\n",
      "Classes: {0: '!', 1: '(', 2: ')', 3: '+', 4: ',', 5: '-', 6: '0', 7: '1', 8: '2', 9: '3', 10: '4', 11: '5', 12: '6', 13: '7', 14: '8', 15: '9', 16: 'A', 17: 'cos', 18: 'e', 19: 'i', 20: 'log', 21: 'pi', 22: 'sin', 23: 'sqrt', 24: 'sum', 25: 'tan', 26: 'times'}\n"
     ]
    }
   ],
   "execution_count": 79
  },
  {
   "metadata": {
    "ExecuteTime": {
     "end_time": "2025-09-21T19:07:39.917768Z",
     "start_time": "2025-09-21T18:56:35.588361Z"
    }
   },
   "cell_type": "code",
   "source": [
    "# Train/test split\n",
    "# Train + temp set split\n",
    "X_train, X_temp, y_train, y_temp = train_test_split(\n",
    "    X_all, y_all, test_size=0.3, random_state=42, stratify=y_all\n",
    ")\n",
    "\n",
    "# Validation + Test split (from temp)\n",
    "X_val, X_test, y_val, y_test = train_test_split(\n",
    "    X_temp, y_temp, test_size=0.5, random_state=42, stratify=y_temp\n",
    ")\n",
    "\n",
    "# Extract HOG features\n",
    "def extract_hog_features(images):\n",
    "    features = []\n",
    "    for img in images:\n",
    "        img = img.squeeze()\n",
    "        hog_feat = hog(\n",
    "            img,\n",
    "            orientations=14,\n",
    "            pixels_per_cell=(3, 3),\n",
    "            cells_per_block=(2, 2),\n",
    "            block_norm=\"L2-Hys\"\n",
    "        )\n",
    "        features.append(hog_feat)\n",
    "    return np.array(features)\n",
    "\n",
    "X_train_hog = extract_hog_features(X_train)\n",
    "X_val_hog   = extract_hog_features(X_val)\n",
    "X_test_hog  = extract_hog_features(X_test)"
   ],
   "id": "9e86bc4d11576eca",
   "outputs": [],
   "execution_count": 80
  },
  {
   "metadata": {
    "ExecuteTime": {
     "end_time": "2025-09-21T19:10:56.040725Z",
     "start_time": "2025-09-21T19:07:39.950705Z"
    }
   },
   "cell_type": "code",
   "source": [
    "rf_hog = RandomForestClassifier(\n",
    "    n_estimators=200,\n",
    "    random_state=42,\n",
    "    n_jobs=-1\n",
    ")\n",
    "rf_hog.fit(X_train_hog, y_train)\n",
    "\n",
    "# Evaluate\n",
    "y_pred_hog = rf_hog.predict(X_test_hog)\n",
    "cm = confusion_matrix(y_test, y_pred_hog)\n",
    "print(\"confusion matrix:\", cm)\n",
    "print(\"Accuracy:\", accuracy_score(y_test, y_pred_hog))\n",
    "print(\"\\nClassification report:\\n\",\n",
    "      classification_report(y_test, y_pred_hog,\n",
    "                            target_names=[index_to_label[i] for i in sorted(index_to_label)]))"
   ],
   "id": "fbe1df51847d6dbe",
   "outputs": [
    {
     "name": "stdout",
     "output_type": "stream",
     "text": [
      "confusion matrix: [[ 195    0    0    0    0    0    0    0    0    0    0    0    0    0\n",
      "     0    0    0    0    0    0    0    0    0    0    0    0    0]\n",
      " [   0 2137    0    0    1    0    0    6    0    0    0    0    0    0\n",
      "     0    0    0    0    0    0    0    0    0    0    0    0    0]\n",
      " [   0    0 2151    0    0    0    0    3    0    0    0    0    0    0\n",
      "     0    0    0    0    0    0    0    0    0    0    0    0    0]\n",
      " [   0    0    0 3766    0    0    0    1    0    0    0    0    0    0\n",
      "     0    0    0    0    0    0    0    0    0    0    0    0    0]\n",
      " [   0    0    7    0  254    0    0   24    0    0    0    0    0    0\n",
      "     0    0    0    0    0    0    0    0    0    1    0    0    0]\n",
      " [   0    0    0    1    0 5099    0    0    0    0    0    0    0    0\n",
      "     0    0    0    0    0    0    0    0    0    0    0    0    0]\n",
      " [   0    0    0    0    0    0 1034    0    0    0    1    0    0    0\n",
      "     0    0    2    0    0    0    0    0    0    0    0    0    0]\n",
      " [   0    1    1    0    1    1    0 3959    8    0    4    0    0    0\n",
      "     0    2    1    0    0    0    0    0    0    0    0    0    0]\n",
      " [   0    0    0    1    0    0    0    5 3911    1    0    0    0    0\n",
      "     0    1    2    0    0    0    0    0    0    0    0    0    0]\n",
      " [   0    0    0    0    0    0    0    0    1 1631    0    0    0    0\n",
      "     2    0    3    0    0    0    0    0    0    0    0    0    0]\n",
      " [   0    0    0    0    0    0    0    0    3    0 1103    0    0    0\n",
      "     0    0    4    0    0    0    0    0    0    0    0    0    0]\n",
      " [   0    0    0    0    0    0    0    1    0    5    0  525    0    0\n",
      "     0    0    0    0    0    0    0    0    0    1    0    0    0]\n",
      " [   0    3    0    0    0    0    0    1    0    0    0    0  461    0\n",
      "     0    0    0    0    2    0    0    0    0    0    0    0    0]\n",
      " [   0    0    0    2    0    0    0    0    3    2    4    0    0  424\n",
      "     0    1    0    0    0    0    0    0    0    0    0    0    0]\n",
      " [   0    0    0    0    0    0    0    0    2    5    0    0    0    0\n",
      "   451    0    0    0    0    0    0    0    2    0    0    0    0]\n",
      " [   0    0    0    0    0    0    0    0    0    4    0    0    0    0\n",
      "     0  557    0    0    0    0    0    0    0    0    0    0    0]\n",
      " [   0    0    0    0    0    0    0    0    0    0    0    0    0    0\n",
      "     0    0 1855    0    0    0    0    0    0    0    0    0    0]\n",
      " [   0    0    0    0    0    0    0    0    0    0    0    0    0    0\n",
      "     0    0    0  448    0    0    0    0    0    0    0    0    0]\n",
      " [   0    0    0    1    0    0    0    0    0    0    0    0    0    0\n",
      "     0    0    0    0  449    0    0    0    0    0    0    0    0]\n",
      " [   0    1    0    0    0    0    0    0    0    0    0    0    0    0\n",
      "     0    0    0    0    0  770    0    0    0    0    0    0    0]\n",
      " [   0    0    0    0    0    0    0    0    0    0    1    0    0    0\n",
      "     0    0    0    0    0    0  299    0    0    0    0    0    0]\n",
      " [   0    0    0    3    0    0    0    0    0    0    2    0    0    0\n",
      "     0    0    0    0    0    0    0  345    0    0    0    0    0]\n",
      " [   0    0    0    0    0    0    0    0    0    0    0    0    0    0\n",
      "     0    0    0    0    0    0    0    0  644    0    0    0    0]\n",
      " [   0    0    0    0    0    0    0    0    0    0    0    0    0    0\n",
      "     0    0    0    0    0    0    0    0    0 1336    0    0    0]\n",
      " [   0    0    0    0    0    0    0    0    3    0    0    1    0    0\n",
      "     0    0    0    0    0    0    0    0    0    0  399    0    0]\n",
      " [   0    0    0    0    0    0    0    0    0    0    0    0    0    0\n",
      "     0    0    0    0    0    0    0    0    0    0    0  367    0]\n",
      " [   0    0    0    3    0    0    0    0    5    0    0    0    0    0\n",
      "     0    0    0    0    0    0    0    0    0    0    0    0  480]]\n",
      "Accuracy: 0.9958235076853141\n",
      "\n",
      "Classification report:\n",
      "               precision    recall  f1-score   support\n",
      "\n",
      "           !       1.00      1.00      1.00       195\n",
      "           (       1.00      1.00      1.00      2144\n",
      "           )       1.00      1.00      1.00      2154\n",
      "           +       1.00      1.00      1.00      3767\n",
      "           ,       0.99      0.89      0.94       286\n",
      "           -       1.00      1.00      1.00      5100\n",
      "           0       1.00      1.00      1.00      1037\n",
      "           1       0.99      1.00      0.99      3978\n",
      "           2       0.99      1.00      1.00      3921\n",
      "           3       0.99      1.00      0.99      1637\n",
      "           4       0.99      0.99      0.99      1110\n",
      "           5       1.00      0.99      0.99       532\n",
      "           6       1.00      0.99      0.99       467\n",
      "           7       1.00      0.97      0.99       436\n",
      "           8       1.00      0.98      0.99       460\n",
      "           9       0.99      0.99      0.99       561\n",
      "           A       0.99      1.00      1.00      1855\n",
      "         cos       1.00      1.00      1.00       448\n",
      "           e       1.00      1.00      1.00       450\n",
      "           i       1.00      1.00      1.00       771\n",
      "         log       1.00      1.00      1.00       300\n",
      "          pi       1.00      0.99      0.99       350\n",
      "         sin       1.00      1.00      1.00       644\n",
      "        sqrt       1.00      1.00      1.00      1336\n",
      "         sum       1.00      0.99      1.00       403\n",
      "         tan       1.00      1.00      1.00       367\n",
      "       times       1.00      0.98      0.99       488\n",
      "\n",
      "    accuracy                           1.00     35197\n",
      "   macro avg       1.00      0.99      0.99     35197\n",
      "weighted avg       1.00      1.00      1.00     35197\n",
      "\n"
     ]
    }
   ],
   "execution_count": 81
  },
  {
   "metadata": {
    "ExecuteTime": {
     "end_time": "2025-09-21T19:22:16.900177Z",
     "start_time": "2025-09-21T19:22:15.114274Z"
    }
   },
   "cell_type": "code",
   "source": [
    "#disp = ConfusionMatrixDisplay(confusion_matrix=cm, display_labels=list(index_to_label.values()))\n",
    "#disp.plot(cmap=\"Blues\", values_format=\"d\")\n",
    "#plt.title(\"Confusion matrix\")\n",
    "#plt.show()\n",
    "\n",
    "\n",
    "fig, ax = plt.subplots(figsize=(15, 15))  # adjust as needed\n",
    "disp = ConfusionMatrixDisplay(confusion_matrix=cm, display_labels=list(index_to_label.values()))\n",
    "disp.plot(cmap=\"Blues\", values_format=\"d\", ax=ax)\n",
    "\n",
    "# Title and tick label sizes\n",
    "plt.title(\"Confusion Matrix\", fontsize=18)\n",
    "plt.xticks(fontsize=12)\n",
    "plt.yticks(fontsize=12)\n",
    "\n",
    "# Save to file\n",
    "plt.tight_layout()  # ensures labels don't get cut off\n",
    "plt.savefig(\"confusion_matrix.png\", dpi=300)  # high-quality image\n",
    "plt.close()  # close the figure to avoid displaying it in the notebook"
   ],
   "id": "9012161ffdcab37",
   "outputs": [],
   "execution_count": 97
  },
  {
   "metadata": {},
   "cell_type": "code",
   "outputs": [],
   "execution_count": null,
   "source": "joblib.dump(rf_hog, \"models/rf_hog.pkl\")",
   "id": "3eeed04ddab97378"
  },
  {
   "metadata": {},
   "cell_type": "code",
   "outputs": [],
   "execution_count": null,
   "source": "joblib.dump(index_to_label, \"models/index_to_label.pkl\")",
   "id": "2c9b445d8ab01d22"
  },
  {
   "metadata": {
    "ExecuteTime": {
     "end_time": "2025-09-21T19:10:56.573655Z",
     "start_time": "2025-09-21T19:10:56.571222Z"
    }
   },
   "cell_type": "code",
   "source": [
    "#rf_hog = joblib.load(\"models/rf_hog.pkl\")\n",
    "\n",
    "#y_pred = rf_hog.predict(X_test_hog)\n",
    "#print(\"Loaded model accuracy:\", accuracy_score(y_test, y_pred))"
   ],
   "id": "dc0c5993114ff2ba",
   "outputs": [],
   "execution_count": 84
  },
  {
   "metadata": {
    "ExecuteTime": {
     "end_time": "2025-09-21T19:10:56.593208Z",
     "start_time": "2025-09-21T19:10:56.583093Z"
    }
   },
   "cell_type": "code",
   "source": [
    "def segment_expression(img_path, img_size=45, show_steps=False):\n",
    "    img = cv2.imread(img_path, cv2.IMREAD_GRAYSCALE)\n",
    "\n",
    "    # Threshold (invert so text is white)\n",
    "    _, thresh = cv2.threshold(img, 128, 255, cv2.THRESH_BINARY_INV)\n",
    "\n",
    "    kernel = np.ones((2,2), np.uint8)\n",
    "    proc = cv2.dilate(thresh, kernel, iterations=1)\n",
    "\n",
    "    # Find contours\n",
    "    contours, _ = cv2.findContours(proc, cv2.RETR_EXTERNAL, cv2.CHAIN_APPROX_SIMPLE)\n",
    "\n",
    "    symbol_imgs = []\n",
    "    bounding_boxes = []\n",
    "\n",
    "    for cnt in contours:\n",
    "        x, y, w, h = cv2.boundingRect(cnt)\n",
    "\n",
    "        # Skip very small contours\n",
    "        if w < 2 or h < 2:\n",
    "            continue\n",
    "\n",
    "        roi = thresh[y:y+h, x:x+w]\n",
    "\n",
    "        # Add padding to make square\n",
    "        side = max(w, h)\n",
    "        square = np.zeros((side, side), dtype=np.uint8)\n",
    "        square[(side-h)//2:(side-h)//2+h, (side-w)//2:(side-w)//2+w] = roi\n",
    "\n",
    "        # Resize to 45x45\n",
    "        roi_resized = cv2.resize(square, (img_size, img_size), interpolation=cv2.INTER_AREA)\n",
    "\n",
    "        # Normalize\n",
    "        roi_resized = roi_resized.astype(\"float32\") / 255.0\n",
    "        roi_resized = np.expand_dims(roi_resized, axis=-1)\n",
    "\n",
    "        symbol_imgs.append(roi_resized)\n",
    "        bounding_boxes.append((x, y, w, h))\n",
    "\n",
    "    # Sort symbols left-to-right\n",
    "    sorted_symbols = [s for _, s in sorted(zip(bounding_boxes, symbol_imgs), key=lambda b: b[0][0])]\n",
    "\n",
    "    if show_steps:\n",
    "        plt.imshow(thresh, cmap=\"gray\")\n",
    "        plt.title(\"Thresholded image\")\n",
    "        plt.show()\n",
    "\n",
    "        for i, s in enumerate(sorted_symbols):\n",
    "            plt.subplot(1, len(sorted_symbols), i+1)\n",
    "            plt.imshow(s.squeeze(), cmap=\"gray\")\n",
    "            plt.axis(\"off\")\n",
    "        plt.show()\n",
    "\n",
    "    return sorted_symbols\n"
   ],
   "id": "1ee503435e5db4e1",
   "outputs": [],
   "execution_count": 85
  },
  {
   "metadata": {
    "ExecuteTime": {
     "end_time": "2025-09-21T19:10:56.599542Z",
     "start_time": "2025-09-21T19:10:56.596395Z"
    }
   },
   "cell_type": "code",
   "source": [
    "def classify_expression(img_path):\n",
    "    symbols = segment_expression(img_path, img_size=45, show_steps=True)\n",
    "    predicted_chars = [predict_symbol_rf_hog(s) for s in symbols]\n",
    "    return \"\".join(predicted_chars)\n"
   ],
   "id": "7cd9aadd9f7a1ab5",
   "outputs": [],
   "execution_count": 86
  },
  {
   "metadata": {
    "ExecuteTime": {
     "end_time": "2025-09-21T19:10:56.609504Z",
     "start_time": "2025-09-21T19:10:56.605156Z"
    }
   },
   "cell_type": "code",
   "source": [
    "# Predicting with hog instead of just RF\n",
    "def predict_symbol_rf_hog(img):\n",
    "    img = img.squeeze()\n",
    "    hog_feat, hog_image = hog(\n",
    "        img,\n",
    "        orientations=14,\n",
    "        pixels_per_cell=(3, 3),\n",
    "        cells_per_block=(2, 2),\n",
    "        block_norm=\"L2-Hys\",\n",
    "        visualize=True\n",
    "    )\n",
    "\n",
    "    hog_feat = hog_feat.reshape(1, -1)\n",
    "\n",
    "    probs = rf_hog.predict_proba(hog_feat)[0]\n",
    "\n",
    "    for cls, p in zip(rf_hog.classes_, probs):\n",
    "        print(f\"{cls}: {p:.2f}\")\n",
    "\n",
    "    pred_idx = rf_hog.predict(hog_feat)[0]\n",
    "\n",
    "    fig, ax = plt.subplots(1, 2, figsize=(6, 3))\n",
    "    ax[0].imshow(img, cmap=\"gray\")\n",
    "    ax[0].set_title(\"Input Image\")\n",
    "    ax[0].axis(\"off\")\n",
    "\n",
    "    ax[1].imshow(hog_image, cmap=\"gray\")\n",
    "    ax[1].set_title(\"HOG Visualization\")\n",
    "    ax[1].axis(\"off\")\n",
    "\n",
    "    plt.show()\n",
    "\n",
    "    return index_to_label[pred_idx]"
   ],
   "id": "1a04a2ac60a5e7f6",
   "outputs": [],
   "execution_count": 87
  },
  {
   "metadata": {},
   "cell_type": "code",
   "outputs": [],
   "execution_count": null,
   "source": [
    "# Sanity check\n",
    "test_symbol = segment_expression(\"test_images/math_img.png\", img_size=45)[0]\n",
    "print(\"Segment shape:\", test_symbol.shape)\n",
    "\n",
    "from skimage.feature import hog\n",
    "feat = hog(test_symbol.squeeze(),\n",
    "           orientations=14,\n",
    "           pixels_per_cell=(3,3),\n",
    "           cells_per_block=(2,2),\n",
    "           block_norm=\"L2-Hys\").reshape(1,-1)\n",
    "print(\"HOG length:\", feat.shape[1])"
   ],
   "id": "c5582ef4491418c7"
  },
  {
   "metadata": {},
   "cell_type": "code",
   "outputs": [],
   "execution_count": null,
   "source": [
    "def solving(expr_str):\n",
    "    expr_str = expr_str.replace(\"times\", \"*\")\n",
    "    expr_str = expr_str.replace(\"div\", \"/\")\n",
    "    expr_str = expr_str.replace(\"sqrt\", \"**0.5\")\n",
    "\n",
    "    try:\n",
    "        expr = sympify(expr_str)\n",
    "        return expr.evalf()\n",
    "    except Exception as e:\n",
    "        return f\"Error: {e}\"\n",
    "\n",
    "# Example: feed an image\n",
    "expr_img = \"test_images/math_img.png\"\n",
    "\n",
    "expr_str = classify_expression(expr_img)\n",
    "print(\"Recognized expression:\", expr_str)\n",
    "\n",
    "result = solving(expr_str)\n",
    "print(\"Result:\", result)\n"
   ],
   "id": "9ef1c496a46689b5"
  },
  {
   "metadata": {
    "ExecuteTime": {
     "end_time": "2025-09-21T19:10:57.029211100Z",
     "start_time": "2025-09-21T18:46:25.860030Z"
    }
   },
   "cell_type": "code",
   "source": [
    "# Example: feed an image\n",
    "expr_img = \"test_images/math.png\"\n",
    "\n",
    "expr_str = classify_expression(expr_img)\n",
    "print(\"Recognized expression:\", expr_str)\n",
    "\n",
    "result = solving(expr_str)\n",
    "print(\"Result:\", result)"
   ],
   "id": "2fc9ceb2410e7ee0",
   "outputs": [
    {
     "data": {
      "text/plain": [
       "<Figure size 640x480 with 1 Axes>"
      ],
      "image/png": "[encoded data removed]"
     },
     "metadata": {},
     "output_type": "display_data",
     "jetTransient": {
      "display_id": null
     }
    },
    {
     "data": {
      "text/plain": [
       "<Figure size 640x480 with 7 Axes>"
      ],
      "image/png": "[encoded data removed]"
     },
     "metadata": {},
     "output_type": "display_data",
     "jetTransient": {
      "display_id": null
     }
    },
    {
     "name": "stdout",
     "output_type": "stream",
     "text": [
      "0: 0.00\n",
      "1: 0.01\n",
      "2: 0.00\n",
      "3: 0.07\n",
      "4: 0.01\n",
      "5: 0.79\n",
      "6: 0.00\n",
      "7: 0.01\n",
      "8: 0.01\n",
      "9: 0.00\n",
      "10: 0.00\n",
      "11: 0.00\n",
      "12: 0.00\n",
      "13: 0.00\n",
      "14: 0.00\n",
      "15: 0.00\n",
      "16: 0.00\n",
      "17: 0.03\n",
      "18: 0.00\n",
      "19: 0.01\n",
      "20: 0.00\n",
      "21: 0.00\n",
      "22: 0.01\n",
      "23: 0.07\n",
      "24: 0.00\n",
      "25: 0.01\n",
      "26: 0.00\n"
     ]
    },
    {
     "data": {
      "text/plain": [
       "<Figure size 600x300 with 2 Axes>"
      ],
      "image/png": "[encoded data removed]"
     },
     "metadata": {},
     "output_type": "display_data",
     "jetTransient": {
      "display_id": null
     }
    },
    {
     "name": "stdout",
     "output_type": "stream",
     "text": [
      "0: 0.04\n",
      "1: 0.08\n",
      "2: 0.04\n",
      "3: 0.05\n",
      "4: 0.05\n",
      "5: 0.01\n",
      "6: 0.01\n",
      "7: 0.17\n",
      "8: 0.25\n",
      "9: 0.02\n",
      "10: 0.01\n",
      "11: 0.01\n",
      "12: 0.01\n",
      "13: 0.01\n",
      "14: 0.01\n",
      "15: 0.01\n",
      "16: 0.01\n",
      "17: 0.00\n",
      "18: 0.01\n",
      "19: 0.11\n",
      "20: 0.00\n",
      "21: 0.01\n",
      "22: 0.01\n",
      "23: 0.02\n",
      "24: 0.04\n",
      "25: 0.00\n",
      "26: 0.01\n"
     ]
    },
    {
     "data": {
      "text/plain": [
       "<Figure size 600x300 with 2 Axes>"
      ],
      "image/png": "[encoded data removed]"
     },
     "metadata": {},
     "output_type": "display_data",
     "jetTransient": {
      "display_id": null
     }
    },
    {
     "name": "stdout",
     "output_type": "stream",
     "text": [
      "0: 0.00\n",
      "1: 0.00\n",
      "2: 0.01\n",
      "3: 0.85\n",
      "4: 0.01\n",
      "5: 0.00\n",
      "6: 0.01\n",
      "7: 0.03\n",
      "8: 0.01\n",
      "9: 0.01\n",
      "10: 0.03\n",
      "11: 0.00\n",
      "12: 0.00\n",
      "13: 0.01\n",
      "14: 0.01\n",
      "15: 0.00\n",
      "16: 0.01\n",
      "17: 0.00\n",
      "18: 0.01\n",
      "19: 0.01\n",
      "20: 0.00\n",
      "21: 0.01\n",
      "22: 0.01\n",
      "23: 0.01\n",
      "24: 0.00\n",
      "25: 0.00\n",
      "26: 0.00\n"
     ]
    },
    {
     "data": {
      "text/plain": [
       "<Figure size 600x300 with 2 Axes>"
      ],
      "image/png": "[encoded data removed]"
     },
     "metadata": {},
     "output_type": "display_data",
     "jetTransient": {
      "display_id": null
     }
    },
    {
     "name": "stdout",
     "output_type": "stream",
     "text": [
      "0: 0.04\n",
      "1: 0.22\n",
      "2: 0.01\n",
      "3: 0.16\n",
      "4: 0.04\n",
      "5: 0.00\n",
      "6: 0.01\n",
      "7: 0.18\n",
      "8: 0.01\n",
      "9: 0.03\n",
      "10: 0.10\n",
      "11: 0.01\n",
      "12: 0.07\n",
      "13: 0.01\n",
      "14: 0.01\n",
      "15: 0.01\n",
      "16: 0.01\n",
      "17: 0.00\n",
      "18: 0.01\n",
      "19: 0.07\n",
      "20: 0.00\n",
      "21: 0.00\n",
      "22: 0.00\n",
      "23: 0.01\n",
      "24: 0.00\n",
      "25: 0.00\n",
      "26: 0.00\n"
     ]
    },
    {
     "data": {
      "text/plain": [
       "<Figure size 600x300 with 2 Axes>"
      ],
      "image/png": "[encoded data removed]"
     },
     "metadata": {},
     "output_type": "display_data",
     "jetTransient": {
      "display_id": null
     }
    },
    {
     "name": "stdout",
     "output_type": "stream",
     "text": [
      "0: 0.00\n",
      "1: 0.00\n",
      "2: 0.00\n",
      "3: 0.02\n",
      "4: 0.00\n",
      "5: 0.82\n",
      "6: 0.00\n",
      "7: 0.00\n",
      "8: 0.02\n",
      "9: 0.00\n",
      "10: 0.00\n",
      "11: 0.00\n",
      "12: 0.00\n",
      "13: 0.00\n",
      "14: 0.00\n",
      "15: 0.00\n",
      "16: 0.00\n",
      "17: 0.01\n",
      "18: 0.00\n",
      "19: 0.00\n",
      "20: 0.00\n",
      "21: 0.00\n",
      "22: 0.01\n",
      "23: 0.12\n",
      "24: 0.00\n",
      "25: 0.01\n",
      "26: 0.00\n"
     ]
    },
    {
     "data": {
      "text/plain": [
       "<Figure size 600x300 with 2 Axes>"
      ],
      "image/png": "[encoded data removed]"
     },
     "metadata": {},
     "output_type": "display_data",
     "jetTransient": {
      "display_id": null
     }
    },
    {
     "name": "stdout",
     "output_type": "stream",
     "text": [
      "0: 0.01\n",
      "1: 0.00\n",
      "2: 0.01\n",
      "3: 0.04\n",
      "4: 0.00\n",
      "5: 0.01\n",
      "6: 0.04\n",
      "7: 0.06\n",
      "8: 0.07\n",
      "9: 0.39\n",
      "10: 0.04\n",
      "11: 0.07\n",
      "12: 0.02\n",
      "13: 0.01\n",
      "14: 0.01\n",
      "15: 0.11\n",
      "16: 0.01\n",
      "17: 0.00\n",
      "18: 0.04\n",
      "19: 0.01\n",
      "20: 0.02\n",
      "21: 0.01\n",
      "22: 0.01\n",
      "23: 0.01\n",
      "24: 0.02\n",
      "25: 0.01\n",
      "26: 0.00\n"
     ]
    },
    {
     "data": {
      "text/plain": [
       "<Figure size 600x300 with 2 Axes>"
      ],
      "image/png": "[encoded data removed]"
     },
     "metadata": {},
     "output_type": "display_data",
     "jetTransient": {
      "display_id": null
     }
    },
    {
     "name": "stdout",
     "output_type": "stream",
     "text": [
      "0: 0.03\n",
      "1: 0.04\n",
      "2: 0.30\n",
      "3: 0.10\n",
      "4: 0.07\n",
      "5: 0.00\n",
      "6: 0.01\n",
      "7: 0.23\n",
      "8: 0.04\n",
      "9: 0.03\n",
      "10: 0.03\n",
      "11: 0.01\n",
      "12: 0.01\n",
      "13: 0.01\n",
      "14: 0.01\n",
      "15: 0.01\n",
      "16: 0.01\n",
      "17: 0.00\n",
      "18: 0.00\n",
      "19: 0.07\n",
      "20: 0.01\n",
      "21: 0.01\n",
      "22: 0.00\n",
      "23: 0.01\n",
      "24: 0.01\n",
      "25: 0.00\n",
      "26: 0.00\n"
     ]
    },
    {
     "data": {
      "text/plain": [
       "<Figure size 600x300 with 2 Axes>"
      ],
      "image/png": "[encoded data removed]"
     },
     "metadata": {},
     "output_type": "display_data",
     "jetTransient": {
      "display_id": null
     }
    },
    {
     "name": "stdout",
     "output_type": "stream",
     "text": [
      "Recognized expression: -2+(-3)\n",
      "Result: -5.00000000000000\n"
     ]
    }
   ],
   "execution_count": 74
  },
  {
   "metadata": {
    "ExecuteTime": {
     "end_time": "2025-09-21T19:10:57.030211800Z",
     "start_time": "2025-09-21T18:46:26.952075Z"
    }
   },
   "cell_type": "code",
   "source": [
    "expr_img = \"test_images/math.png\"\n",
    "\n",
    "expr_str = classify_expression(expr_img)\n",
    "print(\"Recognized expression:\", expr_str)\n",
    "\n",
    "result = solving(expr_str)\n",
    "print(\"Result:\", result)"
   ],
   "id": "cd174c2a9af214d",
   "outputs": [
    {
     "data": {
      "text/plain": [
       "<Figure size 640x480 with 1 Axes>"
      ],
      "image/png": "[encoded data removed]"
     },
     "metadata": {},
     "output_type": "display_data",
     "jetTransient": {
      "display_id": null
     }
    },
    {
     "data": {
      "text/plain": [
       "<Figure size 640x480 with 7 Axes>"
      ],
      "image/png": "[encoded data removed]"
     },
     "metadata": {},
     "output_type": "display_data",
     "jetTransient": {
      "display_id": null
     }
    },
    {
     "name": "stdout",
     "output_type": "stream",
     "text": [
      "0: 0.00\n",
      "1: 0.01\n",
      "2: 0.00\n",
      "3: 0.07\n",
      "4: 0.01\n",
      "5: 0.79\n",
      "6: 0.00\n",
      "7: 0.01\n",
      "8: 0.01\n",
      "9: 0.00\n",
      "10: 0.00\n",
      "11: 0.00\n",
      "12: 0.00\n",
      "13: 0.00\n",
      "14: 0.00\n",
      "15: 0.00\n",
      "16: 0.00\n",
      "17: 0.03\n",
      "18: 0.00\n",
      "19: 0.01\n",
      "20: 0.00\n",
      "21: 0.00\n",
      "22: 0.01\n",
      "23: 0.07\n",
      "24: 0.00\n",
      "25: 0.01\n",
      "26: 0.00\n"
     ]
    },
    {
     "data": {
      "text/plain": [
       "<Figure size 600x300 with 2 Axes>"
      ],
      "image/png": "[encoded data removed]"
     },
     "metadata": {},
     "output_type": "display_data",
     "jetTransient": {
      "display_id": null
     }
    },
    {
     "name": "stdout",
     "output_type": "stream",
     "text": [
      "0: 0.04\n",
      "1: 0.08\n",
      "2: 0.04\n",
      "3: 0.05\n",
      "4: 0.05\n",
      "5: 0.01\n",
      "6: 0.01\n",
      "7: 0.17\n",
      "8: 0.25\n",
      "9: 0.02\n",
      "10: 0.01\n",
      "11: 0.01\n",
      "12: 0.01\n",
      "13: 0.01\n",
      "14: 0.01\n",
      "15: 0.01\n",
      "16: 0.01\n",
      "17: 0.00\n",
      "18: 0.01\n",
      "19: 0.11\n",
      "20: 0.00\n",
      "21: 0.01\n",
      "22: 0.01\n",
      "23: 0.02\n",
      "24: 0.04\n",
      "25: 0.00\n",
      "26: 0.01\n"
     ]
    },
    {
     "data": {
      "text/plain": [
       "<Figure size 600x300 with 2 Axes>"
      ],
      "image/png": "[encoded data removed]"
     },
     "metadata": {},
     "output_type": "display_data",
     "jetTransient": {
      "display_id": null
     }
    },
    {
     "name": "stdout",
     "output_type": "stream",
     "text": [
      "0: 0.00\n",
      "1: 0.00\n",
      "2: 0.01\n",
      "3: 0.85\n",
      "4: 0.01\n",
      "5: 0.00\n",
      "6: 0.01\n",
      "7: 0.03\n",
      "8: 0.01\n",
      "9: 0.01\n",
      "10: 0.03\n",
      "11: 0.00\n",
      "12: 0.00\n",
      "13: 0.01\n",
      "14: 0.01\n",
      "15: 0.00\n",
      "16: 0.01\n",
      "17: 0.00\n",
      "18: 0.01\n",
      "19: 0.01\n",
      "20: 0.00\n",
      "21: 0.01\n",
      "22: 0.01\n",
      "23: 0.01\n",
      "24: 0.00\n",
      "25: 0.00\n",
      "26: 0.00\n"
     ]
    },
    {
     "data": {
      "text/plain": [
       "<Figure size 600x300 with 2 Axes>"
      ],
      "image/png": "[encoded data removed]"
     },
     "metadata": {},
     "output_type": "display_data",
     "jetTransient": {
      "display_id": null
     }
    },
    {
     "name": "stdout",
     "output_type": "stream",
     "text": [
      "0: 0.04\n",
      "1: 0.22\n",
      "2: 0.01\n",
      "3: 0.16\n",
      "4: 0.04\n",
      "5: 0.00\n",
      "6: 0.01\n",
      "7: 0.18\n",
      "8: 0.01\n",
      "9: 0.03\n",
      "10: 0.10\n",
      "11: 0.01\n",
      "12: 0.07\n",
      "13: 0.01\n",
      "14: 0.01\n",
      "15: 0.01\n",
      "16: 0.01\n",
      "17: 0.00\n",
      "18: 0.01\n",
      "19: 0.07\n",
      "20: 0.00\n",
      "21: 0.00\n",
      "22: 0.00\n",
      "23: 0.01\n",
      "24: 0.00\n",
      "25: 0.00\n",
      "26: 0.00\n"
     ]
    },
    {
     "data": {
      "text/plain": [
       "<Figure size 600x300 with 2 Axes>"
      ],
      "image/png": "[encoded data removed]"
     },
     "metadata": {},
     "output_type": "display_data",
     "jetTransient": {
      "display_id": null
     }
    },
    {
     "name": "stdout",
     "output_type": "stream",
     "text": [
      "0: 0.00\n",
      "1: 0.00\n",
      "2: 0.00\n",
      "3: 0.02\n",
      "4: 0.00\n",
      "5: 0.82\n",
      "6: 0.00\n",
      "7: 0.00\n",
      "8: 0.02\n",
      "9: 0.00\n",
      "10: 0.00\n",
      "11: 0.00\n",
      "12: 0.00\n",
      "13: 0.00\n",
      "14: 0.00\n",
      "15: 0.00\n",
      "16: 0.00\n",
      "17: 0.01\n",
      "18: 0.00\n",
      "19: 0.00\n",
      "20: 0.00\n",
      "21: 0.00\n",
      "22: 0.01\n",
      "23: 0.12\n",
      "24: 0.00\n",
      "25: 0.01\n",
      "26: 0.00\n"
     ]
    },
    {
     "data": {
      "text/plain": [
       "<Figure size 600x300 with 2 Axes>"
      ],
      "image/png": "[encoded data removed]"
     },
     "metadata": {},
     "output_type": "display_data",
     "jetTransient": {
      "display_id": null
     }
    },
    {
     "name": "stdout",
     "output_type": "stream",
     "text": [
      "0: 0.01\n",
      "1: 0.00\n",
      "2: 0.01\n",
      "3: 0.04\n",
      "4: 0.00\n",
      "5: 0.01\n",
      "6: 0.04\n",
      "7: 0.06\n",
      "8: 0.07\n",
      "9: 0.39\n",
      "10: 0.04\n",
      "11: 0.07\n",
      "12: 0.02\n",
      "13: 0.01\n",
      "14: 0.01\n",
      "15: 0.11\n",
      "16: 0.01\n",
      "17: 0.00\n",
      "18: 0.04\n",
      "19: 0.01\n",
      "20: 0.02\n",
      "21: 0.01\n",
      "22: 0.01\n",
      "23: 0.01\n",
      "24: 0.02\n",
      "25: 0.01\n",
      "26: 0.00\n"
     ]
    },
    {
     "data": {
      "text/plain": [
       "<Figure size 600x300 with 2 Axes>"
      ],
      "image/png": "[encoded data removed]"
     },
     "metadata": {},
     "output_type": "display_data",
     "jetTransient": {
      "display_id": null
     }
    },
    {
     "name": "stdout",
     "output_type": "stream",
     "text": [
      "0: 0.03\n",
      "1: 0.04\n",
      "2: 0.30\n",
      "3: 0.10\n",
      "4: 0.07\n",
      "5: 0.00\n",
      "6: 0.01\n",
      "7: 0.23\n",
      "8: 0.04\n",
      "9: 0.03\n",
      "10: 0.03\n",
      "11: 0.01\n",
      "12: 0.01\n",
      "13: 0.01\n",
      "14: 0.01\n",
      "15: 0.01\n",
      "16: 0.01\n",
      "17: 0.00\n",
      "18: 0.00\n",
      "19: 0.07\n",
      "20: 0.01\n",
      "21: 0.01\n",
      "22: 0.00\n",
      "23: 0.01\n",
      "24: 0.01\n",
      "25: 0.00\n",
      "26: 0.00\n"
     ]
    },
    {
     "data": {
      "text/plain": [
       "<Figure size 600x300 with 2 Axes>"
      ],
      "image/png": "[encoded data removed]"
     },
     "metadata": {},
     "output_type": "display_data",
     "jetTransient": {
      "display_id": null
     }
    },
    {
     "name": "stdout",
     "output_type": "stream",
     "text": [
      "Recognized expression: -2+(-3)\n",
      "Result: -5.00000000000000\n"
     ]
    }
   ],
   "execution_count": 75
  },
  {
   "metadata": {
    "ExecuteTime": {
     "end_time": "2025-09-21T19:10:57.030211800Z",
     "start_time": "2025-09-21T18:46:28.253292Z"
    }
   },
   "cell_type": "code",
   "source": [
    "expr_img = \"test_images/math3.png\"\n",
    "\n",
    "expr_str = classify_expression(expr_img)\n",
    "print(\"Recognized expression:\", expr_str)\n",
    "\n",
    "result = solving(expr_str)\n",
    "print(\"Result:\", result)"
   ],
   "id": "11119e3da966e510",
   "outputs": [
    {
     "data": {
      "text/plain": [
       "<Figure size 640x480 with 1 Axes>"
      ],
      "image/png": "[encoded data removed]"
     },
     "metadata": {},
     "output_type": "display_data",
     "jetTransient": {
      "display_id": null
     }
    },
    {
     "data": {
      "text/plain": [
       "<Figure size 640x480 with 1 Axes>"
      ],
      "image/png": "[encoded data removed]"
     },
     "metadata": {},
     "output_type": "display_data",
     "jetTransient": {
      "display_id": null
     }
    },
    {
     "name": "stdout",
     "output_type": "stream",
     "text": [
      "0: 0.06\n",
      "1: 0.18\n",
      "2: 0.01\n",
      "3: 0.10\n",
      "4: 0.04\n",
      "5: 0.03\n",
      "6: 0.01\n",
      "7: 0.08\n",
      "8: 0.09\n",
      "9: 0.02\n",
      "10: 0.06\n",
      "11: 0.03\n",
      "12: 0.07\n",
      "13: 0.01\n",
      "14: 0.00\n",
      "15: 0.00\n",
      "16: 0.01\n",
      "17: 0.00\n",
      "18: 0.01\n",
      "19: 0.18\n",
      "20: 0.00\n",
      "21: 0.01\n",
      "22: 0.00\n",
      "23: 0.01\n",
      "24: 0.01\n",
      "25: 0.00\n",
      "26: 0.00\n"
     ]
    },
    {
     "data": {
      "text/plain": [
       "<Figure size 600x300 with 2 Axes>"
      ],
      "image/png": "[encoded data removed]"
     },
     "metadata": {},
     "output_type": "display_data",
     "jetTransient": {
      "display_id": null
     }
    },
    {
     "name": "stdout",
     "output_type": "stream",
     "text": [
      "Recognized expression: (\n",
      "Result: Error: Sympify of expression 'could not parse '('' failed, because of exception being raised:\n",
      "TokenError: ('unexpected EOF in multi-line statement', (1, 0))\n"
     ]
    }
   ],
   "execution_count": 76
  },
  {
   "metadata": {
    "ExecuteTime": {
     "end_time": "2025-09-21T19:10:57.032213800Z",
     "start_time": "2025-09-21T18:39:16.779591Z"
    }
   },
   "cell_type": "code",
   "source": "",
   "id": "6a14693128163c1a",
   "outputs": [],
   "execution_count": null
  }
 ],
 "metadata": {
  "kernelspec": {
   "name": "python3",
   "language": "python",
   "display_name": "Python 3 (ipykernel)"
  }
 },
 "nbformat": 4,
 "nbformat_minor": 5
}
